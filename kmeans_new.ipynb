{
 "cells": [
  {
   "cell_type": "code",
   "execution_count": 1,
   "metadata": {},
   "outputs": [],
   "source": [
    "from mpl_toolkits import mplot3d\n",
    "import pandas as pd\n",
    "import matplotlib.pyplot as plt\n",
    "import seaborn as sns\n",
    "sns.set()\n",
    "from sklearn.cluster import KMeans\n",
    "from sklearn import preprocessing\n",
    "import numpy as np\n",
    "#%config InlineBackend.figure_format = 'svg'"
   ]
  },
  {
   "cell_type": "code",
   "execution_count": 17,
   "metadata": {},
   "outputs": [
    {
     "data": {
      "text/html": [
       "<div>\n",
       "<style scoped>\n",
       "    .dataframe tbody tr th:only-of-type {\n",
       "        vertical-align: middle;\n",
       "    }\n",
       "\n",
       "    .dataframe tbody tr th {\n",
       "        vertical-align: top;\n",
       "    }\n",
       "\n",
       "    .dataframe thead th {\n",
       "        text-align: right;\n",
       "    }\n",
       "</style>\n",
       "<table border=\"1\" class=\"dataframe\">\n",
       "  <thead>\n",
       "    <tr style=\"text-align: right;\">\n",
       "      <th></th>\n",
       "      <th>Pmin</th>\n",
       "      <th>Pmax</th>\n",
       "      <th>Pavg</th>\n",
       "      <th>Pref</th>\n",
       "      <th>Pcmin</th>\n",
       "      <th>Pcavg</th>\n",
       "      <th>Pcmax</th>\n",
       "      <th>Amin</th>\n",
       "      <th>Aavg</th>\n",
       "      <th>Amax</th>\n",
       "      <th>Ramin</th>\n",
       "      <th>Ramax</th>\n",
       "      <th>Ravg</th>\n",
       "      <th>Rain</th>\n",
       "    </tr>\n",
       "  </thead>\n",
       "  <tbody>\n",
       "    <tr>\n",
       "      <th>0</th>\n",
       "      <td>-48</td>\n",
       "      <td>-47</td>\n",
       "      <td>-47.5</td>\n",
       "      <td>-47.50</td>\n",
       "      <td>-47.50</td>\n",
       "      <td>-47.50</td>\n",
       "      <td>-47.50</td>\n",
       "      <td>0.0</td>\n",
       "      <td>0.0</td>\n",
       "      <td>0.0</td>\n",
       "      <td>1.50</td>\n",
       "      <td>1.50</td>\n",
       "      <td>1.50</td>\n",
       "      <td>0</td>\n",
       "    </tr>\n",
       "    <tr>\n",
       "      <th>1</th>\n",
       "      <td>-47</td>\n",
       "      <td>-47</td>\n",
       "      <td>-47.0</td>\n",
       "      <td>-47.25</td>\n",
       "      <td>-47.25</td>\n",
       "      <td>-47.25</td>\n",
       "      <td>-47.25</td>\n",
       "      <td>0.0</td>\n",
       "      <td>0.0</td>\n",
       "      <td>0.0</td>\n",
       "      <td>1.25</td>\n",
       "      <td>1.25</td>\n",
       "      <td>1.25</td>\n",
       "      <td>0</td>\n",
       "    </tr>\n",
       "    <tr>\n",
       "      <th>2</th>\n",
       "      <td>-47</td>\n",
       "      <td>-47</td>\n",
       "      <td>-47.0</td>\n",
       "      <td>-47.00</td>\n",
       "      <td>-47.00</td>\n",
       "      <td>-47.00</td>\n",
       "      <td>-47.00</td>\n",
       "      <td>0.0</td>\n",
       "      <td>0.0</td>\n",
       "      <td>0.0</td>\n",
       "      <td>1.00</td>\n",
       "      <td>1.00</td>\n",
       "      <td>1.00</td>\n",
       "      <td>0</td>\n",
       "    </tr>\n",
       "    <tr>\n",
       "      <th>3</th>\n",
       "      <td>-47</td>\n",
       "      <td>-47</td>\n",
       "      <td>-47.0</td>\n",
       "      <td>-47.00</td>\n",
       "      <td>-47.00</td>\n",
       "      <td>-47.00</td>\n",
       "      <td>-47.00</td>\n",
       "      <td>0.0</td>\n",
       "      <td>0.0</td>\n",
       "      <td>0.0</td>\n",
       "      <td>1.00</td>\n",
       "      <td>1.00</td>\n",
       "      <td>1.00</td>\n",
       "      <td>0</td>\n",
       "    </tr>\n",
       "    <tr>\n",
       "      <th>4</th>\n",
       "      <td>-47</td>\n",
       "      <td>-47</td>\n",
       "      <td>-47.0</td>\n",
       "      <td>-47.00</td>\n",
       "      <td>-47.00</td>\n",
       "      <td>-47.00</td>\n",
       "      <td>-47.00</td>\n",
       "      <td>0.0</td>\n",
       "      <td>0.0</td>\n",
       "      <td>0.0</td>\n",
       "      <td>1.00</td>\n",
       "      <td>1.00</td>\n",
       "      <td>1.00</td>\n",
       "      <td>0</td>\n",
       "    </tr>\n",
       "  </tbody>\n",
       "</table>\n",
       "</div>"
      ],
      "text/plain": [
       "   Pmin  Pmax  Pavg   Pref  Pcmin  Pcavg  Pcmax  Amin  Aavg  Amax  Ramin  \\\n",
       "0   -48   -47 -47.5 -47.50 -47.50 -47.50 -47.50   0.0   0.0   0.0   1.50   \n",
       "1   -47   -47 -47.0 -47.25 -47.25 -47.25 -47.25   0.0   0.0   0.0   1.25   \n",
       "2   -47   -47 -47.0 -47.00 -47.00 -47.00 -47.00   0.0   0.0   0.0   1.00   \n",
       "3   -47   -47 -47.0 -47.00 -47.00 -47.00 -47.00   0.0   0.0   0.0   1.00   \n",
       "4   -47   -47 -47.0 -47.00 -47.00 -47.00 -47.00   0.0   0.0   0.0   1.00   \n",
       "\n",
       "   Ramax  Ravg  Rain  \n",
       "0   1.50  1.50     0  \n",
       "1   1.25  1.25     0  \n",
       "2   1.00  1.00     0  \n",
       "3   1.00  1.00     0  \n",
       "4   1.00  1.00     0  "
      ]
     },
     "execution_count": 17,
     "metadata": {},
     "output_type": "execute_result"
    }
   ],
   "source": [
    "data = pd.read_csv('Data_Holland/mwl526_C.csv')\n",
    "data.head()"
   ]
  },
  {
   "cell_type": "code",
   "execution_count": 18,
   "metadata": {},
   "outputs": [
    {
     "data": {
      "text/plain": [
       "<matplotlib.collections.PathCollection at 0xf5a691f4e0>"
      ]
     },
     "execution_count": 18,
     "metadata": {},
     "output_type": "execute_result"
    },
    {
     "data": {
      "image/png": "[encoded data removed]",
      "text/plain": [
       "<Figure size 432x288 with 1 Axes>"
      ]
     },
     "metadata": {
      "needs_background": "light"
     },
     "output_type": "display_data"
    }
   ],
   "source": [
    "plt.scatter(data['Ramin'], data['Rain'])"
   ]
  },
  {
   "cell_type": "code",
   "execution_count": 19,
   "metadata": {},
   "outputs": [
    {
     "name": "stdout",
     "output_type": "stream",
     "text": [
      "(9027, 3)\n"
     ]
    }
   ],
   "source": [
    "colors = ['b', 'orange', 'g', 'r', 'c', 'm', 'y', 'k', 'Brown', 'ForestGreen']\n",
    "xpts=np.array(data['Ramin'])\n",
    "ypts=np.array(data['Ravg'])\n",
    "zpts=np.array(data['Ramax'])\n",
    "rpts=np.array(data['Rain'])\n",
    "data1=np.vstack((xpts, ypts, zpts))\n",
    "data1=data1.T\n",
    "print(data1.shape)"
   ]
  },
  {
   "cell_type": "code",
   "execution_count": 20,
   "metadata": {},
   "outputs": [
    {
     "data": {
      "text/plain": [
       "(1868, 3)"
      ]
     },
     "execution_count": 20,
     "metadata": {},
     "output_type": "execute_result"
    }
   ],
   "source": [
    "num_one_targets = int(np.sum(rpts))\n",
    "zero_targets_counter = 0\n",
    "indices_to_remove = []\n",
    "for i in range(rpts.shape[0]):\n",
    "    if rpts[i] == 0:\n",
    "        zero_targets_counter += 1\n",
    "        if zero_targets_counter > num_one_targets:\n",
    "            indices_to_remove.append(i)\n",
    "            \n",
    "data1 = np.delete(data1, indices_to_remove, axis = 0)\n",
    "rpts = np.delete(rpts, indices_to_remove, axis = 0)\n",
    "data1.shape"
   ]
  },
  {
   "cell_type": "code",
   "execution_count": 38,
   "metadata": {},
   "outputs": [
    {
     "data": {
      "text/plain": [
       "(1494, 3)"
      ]
     },
     "execution_count": 38,
     "metadata": {},
     "output_type": "execute_result"
    }
   ],
   "source": [
    "#val=data['Rain']\n",
    "#obs=data[['Ramin','Ravg','Ramax']]\n",
    "\n",
    "X = preprocessing.scale(data1)\n",
    "from sklearn.model_selection import train_test_split\n",
    "X_train, X_test,y_train,y_test = train_test_split(X, rpts, test_size=0.20, shuffle=True)\n",
    "X_train.shape"
   ]
  },
  {
   "cell_type": "code",
   "execution_count": 47,
   "metadata": {},
   "outputs": [],
   "source": [
    "#X = preprocessing.scale(obs)\n",
    "#kmeans = KMeans(6)\n",
    "#kmeans.fit(X_train)\n",
    "identified_clusters=kmeans.fit_predict(X_test)\n",
    "#identified_clusters.reshape(-1,1)"
   ]
  },
  {
   "cell_type": "code",
   "execution_count": 40,
   "metadata": {},
   "outputs": [
    {
     "data": {
      "image/png": "[encoded data removed]",
      "text/plain": [
       "<Figure size 432x288 with 1 Axes>"
      ]
     },
     "metadata": {
      "needs_background": "light"
     },
     "output_type": "display_data"
    }
   ],
   "source": [
    "fig0, ax0 = plt.subplots()\n",
    "for label in range(2):\n",
    "    ax0.plot(X_test.T[0, y_test == label], X_test.T[2, y_test == label], 'o',\n",
    "             color=colors[label], label='rain ' + str(label))\n",
    "ax0.legend()\n",
    "ax0.set_xlabel(\"Raw minimum attenuation\")\n",
    "ax0.set_ylabel(\"Raw maximum attenuation\")\n",
    "plt.savefig('kmeans_test_526_KM.eps')"
   ]
  },
  {
   "cell_type": "code",
   "execution_count": 45,
   "metadata": {},
   "outputs": [],
   "source": [
    "#data_with_clusters=obs.copy()\n",
    "#data_with_clusters['cluster']=identified_clusters\n",
    "\n",
    "#For membership inversion\n",
    "for k in range(identified_clusters.size):\n",
    "    if(identified_clusters[k]==0):\n",
    "        identified_clusters[k]=1\n",
    "    else if(identified_clusters[k]==1):\n",
    "        identified_clusters[k]=0"
   ]
  },
  {
   "cell_type": "code",
   "execution_count": 50,
   "metadata": {},
   "outputs": [],
   "source": [
    "#for 3 centers clustering\n",
    "for k in range(identified_clusters.size):\n",
    "    if(identified_clusters[k]>=2):\n",
    "        identified_clusters[k]=1"
   ]
  },
  {
   "cell_type": "code",
   "execution_count": 52,
   "metadata": {},
   "outputs": [
    {
     "data": {
      "image/png": "[encoded data removed]",
      "text/plain": [
       "<Figure size 432x288 with 1 Axes>"
      ]
     },
     "metadata": {
      "needs_background": "light"
     },
     "output_type": "display_data"
    }
   ],
   "source": [
    "fig1, ax1 = plt.subplots()\n",
    "ax1.set_title('')\n",
    "k=1\n",
    "for j in range(2):\n",
    "    ax1.plot(X_test[identified_clusters == j, 0],\n",
    "             X_test[identified_clusters == j, 2], 'o',\n",
    "             label='rain ' + str(j))\n",
    "ax1.legend(loc=2)\n",
    "ax1.set_xlabel(\"Raw minimum attenuation\")\n",
    "ax1.set_ylabel(\"Raw maximum attenuation\")\n",
    "plt.savefig('kmeans_pred_526_KM2.eps')"
   ]
  },
  {
   "cell_type": "code",
   "execution_count": 1100,
   "metadata": {},
   "outputs": [],
   "source": [
    "#plt.scatter(data['Ravg'], data['Rain'],c=kmeans.fit_predict(X), cmap='rainbow')\n",
    "#plt.xlabel('Average raw attenuation')\n",
    "#plt.ylabel('Rain')\n",
    "#plt.savefig('cluster.eps')"
   ]
  },
  {
   "cell_type": "code",
   "execution_count": 1101,
   "metadata": {},
   "outputs": [],
   "source": [
    "#ax = plt.axes(projection='3d')\n",
    "#groups = (\"coffee\", \"tea\") \n",
    "#ax.scatter3D(data['Ramin'], data['Ravg'], data['Ramax'], c=kmeans.fit_predict(X), cmap='rainbow');\n",
    "#plt.legend(\"coffee\", \"tea\",loc=2)\n",
    "#ax.set_xlabel('Ramin')\n",
    "#ax.set_ylabel('Ravg')\n",
    "#ax.set_zlabel('Ramax')"
   ]
  },
  {
   "cell_type": "code",
   "execution_count": 1144,
   "metadata": {},
   "outputs": [
    {
     "data": {
      "text/plain": [
       "595.7416145995589"
      ]
     },
     "execution_count": 1144,
     "metadata": {},
     "output_type": "execute_result"
    }
   ],
   "source": [
    "kmeans.inertia_"
   ]
  },
  {
   "cell_type": "code",
   "execution_count": 1145,
   "metadata": {},
   "outputs": [],
   "source": [
    "wcss=[]\n",
    "for i in range(1,11):\n",
    "    kmeans=KMeans(i)\n",
    "    kmeans.fit(X_train)\n",
    "    wcss_iter=kmeans.inertia_\n",
    "    wcss.append(wcss_iter)"
   ]
  },
  {
   "cell_type": "code",
   "execution_count": 1146,
   "metadata": {},
   "outputs": [
    {
     "data": {
      "text/plain": [
       "[3506.7656083581214,\n",
       " 1896.0220244719283,\n",
       " 1194.9181321061578,\n",
       " 830.276122522402,\n",
       " 493.0681727854782,\n",
       " 370.12845980522513,\n",
       " 290.912379121967,\n",
       " 230.20619800306986,\n",
       " 191.84151270266707,\n",
       " 170.59579203243953]"
      ]
     },
     "execution_count": 1146,
     "metadata": {},
     "output_type": "execute_result"
    }
   ],
   "source": [
    "wcss"
   ]
  },
  {
   "cell_type": "code",
   "execution_count": 1387,
   "metadata": {},
   "outputs": [
    {
     "data": {
      "image/png": "[encoded data removed]",
      "text/plain": [
       "<Figure size 432x288 with 1 Axes>"
      ]
     },
     "metadata": {},
     "output_type": "display_data"
    }
   ],
   "source": [
    "numbers_clusters=range(1,11)\n",
    "plt.plot(numbers_clusters,wcss)\n",
    "#plt.title('The elbow method')\n",
    "plt.xlabel('Number of clusters')\n",
    "plt.ylabel('WCSS')\n",
    "plt.savefig('elbow.eps')"
   ]
  },
  {
   "cell_type": "code",
   "execution_count": 1148,
   "metadata": {},
   "outputs": [
    {
     "data": {
      "text/plain": [
       "-339.18203683002105"
      ]
     },
     "execution_count": 1148,
     "metadata": {},
     "output_type": "execute_result"
    }
   ],
   "source": [
    "kmeans.score(X_test)"
   ]
  },
  {
   "cell_type": "code",
   "execution_count": 53,
   "metadata": {},
   "outputs": [
    {
     "name": "stdout",
     "output_type": "stream",
     "text": [
      "[[ 15 170]\n",
      " [  5 184]]\n",
      "              precision    recall  f1-score   support\n",
      "\n",
      "           0       0.75      0.08      0.15       185\n",
      "           1       0.52      0.97      0.68       189\n",
      "\n",
      "   micro avg       0.53      0.53      0.53       374\n",
      "   macro avg       0.63      0.53      0.41       374\n",
      "weighted avg       0.63      0.53      0.41       374\n",
      "\n"
     ]
    }
   ],
   "source": [
    "from sklearn.metrics import classification_report, confusion_matrix\n",
    "print(confusion_matrix(y_test, identified_clusters))\n",
    "print(classification_report(y_test, identified_clusters))"
   ]
  },
  {
   "cell_type": "code",
   "execution_count": 11,
   "metadata": {},
   "outputs": [
    {
     "name": "stdout",
     "output_type": "stream",
     "text": [
      "0.7661290322580645\n"
     ]
    }
   ],
   "source": [
    "from sklearn.metrics import roc_auc_score\n",
    "print(roc_auc_score(y_test, identified_clusters))"
   ]
  },
  {
   "cell_type": "code",
   "execution_count": 1071,
   "metadata": {},
   "outputs": [
    {
     "data": {
      "text/plain": [
       "315"
      ]
     },
     "execution_count": 1071,
     "metadata": {},
     "output_type": "execute_result"
    }
   ],
   "source": [
    "np.count_nonzero(identified_clusters)"
   ]
  },
  {
   "cell_type": "code",
   "execution_count": null,
   "metadata": {},
   "outputs": [],
   "source": []
  }
 ],
 "metadata": {
  "kernelspec": {
   "display_name": "Python 3",
   "language": "python",
   "name": "python3"
  },
  "language_info": {
   "codemirror_mode": {
    "name": "ipython",
    "version": 3
   },
   "file_extension": ".py",
   "mimetype": "text/x-python",
   "name": "python",
   "nbconvert_exporter": "python",
   "pygments_lexer": "ipython3",
   "version": "3.7.3"
  }
 },
 "nbformat": 4,
 "nbformat_minor": 2
}
