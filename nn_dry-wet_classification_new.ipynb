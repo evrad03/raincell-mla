{
 "cells": [
  {
   "cell_type": "code",
   "execution_count": 777,
   "metadata": {},
   "outputs": [],
   "source": [
    "import numpy as np\n",
    "import pandas as pd\n",
    "from sklearn import preprocessing\n",
    "import matplotlib.pyplot as plt"
   ]
  },
  {
   "cell_type": "code",
   "execution_count": 778,
   "metadata": {},
   "outputs": [
    {
     "name": "stdout",
     "output_type": "stream",
     "text": [
      "(9027, 14)\n"
     ]
    },
    {
     "data": {
      "text/html": [
       "<div>\n",
       "<style scoped>\n",
       "    .dataframe tbody tr th:only-of-type {\n",
       "        vertical-align: middle;\n",
       "    }\n",
       "\n",
       "    .dataframe tbody tr th {\n",
       "        vertical-align: top;\n",
       "    }\n",
       "\n",
       "    .dataframe thead th {\n",
       "        text-align: right;\n",
       "    }\n",
       "</style>\n",
       "<table border=\"1\" class=\"dataframe\">\n",
       "  <thead>\n",
       "    <tr style=\"text-align: right;\">\n",
       "      <th></th>\n",
       "      <th>Pmin</th>\n",
       "      <th>Pmax</th>\n",
       "      <th>Pavg</th>\n",
       "      <th>Pref</th>\n",
       "      <th>Pcmin</th>\n",
       "      <th>Pcavg</th>\n",
       "      <th>Pcmax</th>\n",
       "      <th>Amin</th>\n",
       "      <th>Aavg</th>\n",
       "      <th>Amax</th>\n",
       "      <th>Ramin</th>\n",
       "      <th>Ramax</th>\n",
       "      <th>Ravg</th>\n",
       "      <th>Rain</th>\n",
       "    </tr>\n",
       "  </thead>\n",
       "  <tbody>\n",
       "    <tr>\n",
       "      <th>0</th>\n",
       "      <td>-48</td>\n",
       "      <td>-47</td>\n",
       "      <td>-47.5</td>\n",
       "      <td>-47.50</td>\n",
       "      <td>-47.50</td>\n",
       "      <td>-47.50</td>\n",
       "      <td>-47.50</td>\n",
       "      <td>0.0</td>\n",
       "      <td>0.0</td>\n",
       "      <td>0.0</td>\n",
       "      <td>1.50</td>\n",
       "      <td>1.50</td>\n",
       "      <td>1.50</td>\n",
       "      <td>0</td>\n",
       "    </tr>\n",
       "    <tr>\n",
       "      <th>1</th>\n",
       "      <td>-47</td>\n",
       "      <td>-47</td>\n",
       "      <td>-47.0</td>\n",
       "      <td>-47.25</td>\n",
       "      <td>-47.25</td>\n",
       "      <td>-47.25</td>\n",
       "      <td>-47.25</td>\n",
       "      <td>0.0</td>\n",
       "      <td>0.0</td>\n",
       "      <td>0.0</td>\n",
       "      <td>1.25</td>\n",
       "      <td>1.25</td>\n",
       "      <td>1.25</td>\n",
       "      <td>0</td>\n",
       "    </tr>\n",
       "    <tr>\n",
       "      <th>2</th>\n",
       "      <td>-47</td>\n",
       "      <td>-47</td>\n",
       "      <td>-47.0</td>\n",
       "      <td>-47.00</td>\n",
       "      <td>-47.00</td>\n",
       "      <td>-47.00</td>\n",
       "      <td>-47.00</td>\n",
       "      <td>0.0</td>\n",
       "      <td>0.0</td>\n",
       "      <td>0.0</td>\n",
       "      <td>1.00</td>\n",
       "      <td>1.00</td>\n",
       "      <td>1.00</td>\n",
       "      <td>0</td>\n",
       "    </tr>\n",
       "    <tr>\n",
       "      <th>3</th>\n",
       "      <td>-47</td>\n",
       "      <td>-47</td>\n",
       "      <td>-47.0</td>\n",
       "      <td>-47.00</td>\n",
       "      <td>-47.00</td>\n",
       "      <td>-47.00</td>\n",
       "      <td>-47.00</td>\n",
       "      <td>0.0</td>\n",
       "      <td>0.0</td>\n",
       "      <td>0.0</td>\n",
       "      <td>1.00</td>\n",
       "      <td>1.00</td>\n",
       "      <td>1.00</td>\n",
       "      <td>0</td>\n",
       "    </tr>\n",
       "    <tr>\n",
       "      <th>4</th>\n",
       "      <td>-47</td>\n",
       "      <td>-47</td>\n",
       "      <td>-47.0</td>\n",
       "      <td>-47.00</td>\n",
       "      <td>-47.00</td>\n",
       "      <td>-47.00</td>\n",
       "      <td>-47.00</td>\n",
       "      <td>0.0</td>\n",
       "      <td>0.0</td>\n",
       "      <td>0.0</td>\n",
       "      <td>1.00</td>\n",
       "      <td>1.00</td>\n",
       "      <td>1.00</td>\n",
       "      <td>0</td>\n",
       "    </tr>\n",
       "  </tbody>\n",
       "</table>\n",
       "</div>"
      ],
      "text/plain": [
       "   Pmin  Pmax  Pavg   Pref  Pcmin  Pcavg  Pcmax  Amin  Aavg  Amax  Ramin  \\\n",
       "0   -48   -47 -47.5 -47.50 -47.50 -47.50 -47.50   0.0   0.0   0.0   1.50   \n",
       "1   -47   -47 -47.0 -47.25 -47.25 -47.25 -47.25   0.0   0.0   0.0   1.25   \n",
       "2   -47   -47 -47.0 -47.00 -47.00 -47.00 -47.00   0.0   0.0   0.0   1.00   \n",
       "3   -47   -47 -47.0 -47.00 -47.00 -47.00 -47.00   0.0   0.0   0.0   1.00   \n",
       "4   -47   -47 -47.0 -47.00 -47.00 -47.00 -47.00   0.0   0.0   0.0   1.00   \n",
       "\n",
       "   Ramax  Ravg  Rain  \n",
       "0   1.50  1.50     0  \n",
       "1   1.25  1.25     0  \n",
       "2   1.00  1.00     0  \n",
       "3   1.00  1.00     0  \n",
       "4   1.00  1.00     0  "
      ]
     },
     "execution_count": 778,
     "metadata": {},
     "output_type": "execute_result"
    }
   ],
   "source": [
    "data = pd.read_csv('Data_Holland/mwl526_C.csv')\n",
    "print(data.shape)\n",
    "data.head()"
   ]
  },
  {
   "cell_type": "code",
   "execution_count": 779,
   "metadata": {},
   "outputs": [
    {
     "data": {
      "text/plain": [
       "(9027, 3)"
      ]
     },
     "execution_count": 779,
     "metadata": {},
     "output_type": "execute_result"
    }
   ],
   "source": [
    "min1=np.array(data['Pmin'])\n",
    "avg1=np.array(data['Pavg'])\n",
    "max1=np.array(data['Pmax'])\n",
    "\n",
    "min2=np.array(data['Amin'])\n",
    "avg2=np.array(data['Aavg'])\n",
    "max2=np.array(data['Amax'])\n",
    "\n",
    "min3=np.array(data['Ramin'])\n",
    "avg3=np.array(data['Ravg'])\n",
    "max3=np.array(data['Ramax'])\n",
    "\n",
    "unscaled_inputs_all = np.vstack((min3,avg3,max3))\n",
    "unscaled_inputs_all = unscaled_inputs_all.T\n",
    "targets_all =np.array(data['Rain'])\n",
    "#targets_all.reshape(6434,1)\n",
    "unscaled_inputs_all.shape"
   ]
  },
  {
   "cell_type": "code",
   "execution_count": 780,
   "metadata": {},
   "outputs": [],
   "source": [
    "num_one_targets = int(np.sum(targets_all))\n",
    "zero_targets_counter = 0\n",
    "indices_to_remove = []\n",
    "for i in range(targets_all.shape[0]):\n",
    "    if targets_all[i] == 0:\n",
    "        zero_targets_counter += 1\n",
    "        if zero_targets_counter > num_one_targets:\n",
    "            indices_to_remove.append(i)\n",
    "            \n",
    "unscaled_inputs_equal_priors = np.delete(unscaled_inputs_all, indices_to_remove, axis = 0)\n",
    "targets_equal_prior = np.delete(targets_all, indices_to_remove, axis = 0)"
   ]
  },
  {
   "cell_type": "code",
   "execution_count": 781,
   "metadata": {},
   "outputs": [
    {
     "data": {
      "text/plain": [
       "(1868, 3)"
      ]
     },
     "execution_count": 781,
     "metadata": {},
     "output_type": "execute_result"
    }
   ],
   "source": [
    "scaled_inputs = preprocessing.scale(unscaled_inputs_equal_priors)\n",
    "scaled_inputs.shape"
   ]
  },
  {
   "cell_type": "code",
   "execution_count": 782,
   "metadata": {},
   "outputs": [],
   "source": [
    "shuffled_indices = np.arange(scaled_inputs.shape[0])\n",
    "np.random.shuffle(shuffled_indices)\n",
    "shuffled_inputs = scaled_inputs[shuffled_indices]\n",
    "shuffled_targets = targets_equal_prior[shuffled_indices]"
   ]
  },
  {
   "cell_type": "code",
   "execution_count": 783,
   "metadata": {},
   "outputs": [],
   "source": [
    "#for unscaled data\n",
    "shuffled_indices = np.arange(unscaled_inputs_all.shape[0])\n",
    "np.random.shuffle(shuffled_indices)\n",
    "shuffled_inputs = unscaled_inputs_all[shuffled_indices]\n",
    "shuffled_targets = targets_all[shuffled_indices]"
   ]
  },
  {
   "cell_type": "code",
   "execution_count": 784,
   "metadata": {},
   "outputs": [
    {
     "name": "stdout",
     "output_type": "stream",
     "text": [
      "747 7221 0.10344827586206896\n",
      "89 902 0.09866962305986696\n",
      "89 904 0.09845132743362832\n"
     ]
    }
   ],
   "source": [
    "samples_count = shuffled_inputs.shape[0]\n",
    "\n",
    "train_samples_count = int(0.8*samples_count)\n",
    "validation_samples_count = int(0.1*samples_count)\n",
    "tests_samples_count = int(samples_count-train_samples_count-validation_samples_count)\n",
    "\n",
    "train_inputs = shuffled_inputs[:train_samples_count]\n",
    "train_targets = shuffled_targets[:train_samples_count]\n",
    "\n",
    "validation_inputs = shuffled_inputs[train_samples_count+validation_samples_count:]\n",
    "validation_targets = shuffled_targets[train_samples_count+validation_samples_count:]\n",
    "\n",
    "tests_inputs = shuffled_inputs[train_samples_count+validation_samples_count:]\n",
    "tests_targets = shuffled_targets[train_samples_count+validation_samples_count:]\n",
    "\n",
    "print(np.sum(train_targets), train_samples_count, np.sum(train_targets)/train_samples_count)\n",
    "print(np.sum(validation_targets), validation_samples_count, np.sum(validation_targets)/validation_samples_count)\n",
    "print(np.sum(tests_targets), tests_samples_count, np.sum(tests_targets)/tests_samples_count)"
   ]
  },
  {
   "cell_type": "code",
   "execution_count": 785,
   "metadata": {},
   "outputs": [],
   "source": [
    "np.savez('RainH_data_train', inputs=train_inputs, targets=train_targets)\n",
    "np.savez('RainH_data_validation', inputs=validation_inputs, targets=validation_targets)\n",
    "np.savez('RainH_data_test', inputs=tests_inputs, targets=tests_targets)"
   ]
  },
  {
   "cell_type": "code",
   "execution_count": 786,
   "metadata": {},
   "outputs": [],
   "source": [
    "class Audiobooks_data_Reader():\n",
    "    def  __init__(self, dataset, batch_size = None):  \n",
    "        npz=np.load('RainH_data_{0}.npz'.format(dataset))\n",
    "        self.inputs, self.targets = npz['inputs'].astype(np.float), npz['targets'].astype(np.int)\n",
    "        if batch_size is None:\n",
    "            self.batch_size = self.inputs.shape[0]\n",
    "        else:\n",
    "            self.batch_size = batch_size\n",
    "        self.curr_batch = 0\n",
    "        self.batch_count = self.inputs.shape[0] // self.batch_size\n",
    "        \n",
    "    def  __next__(self):\n",
    "        if self.curr_batch >= self.batch_count:\n",
    "            self.curr_batch = 0\n",
    "            raise StopIteration()\n",
    "            \n",
    "        batch_slice = slice(self.curr_batch * self.batch_size, (self.curr_batch+1) * self.batch_size)\n",
    "        inputs_batch = self.inputs[batch_size]\n",
    "        targets_batch = self.targets[batch_slice]\n",
    "        self.curr_batch += 1\n",
    "        \n",
    "        classes_num = 2\n",
    "        targets_one_hot = np.zeros((targets_batch.shape[0], classes_num))\n",
    "        targets_one_hot[range(targets_batch.shape[0]), targets_batch] = 1\n",
    "        inputs_batch=inputs_batch.reshape(1,3)\n",
    "        #targets_one_hot=targets_one_hot.reshape(2,100)\n",
    "        return inputs_batch, targets_one_hot\n",
    "    def  __iter__(self):\n",
    "        return self"
   ]
  },
  {
   "cell_type": "code",
   "execution_count": 787,
   "metadata": {},
   "outputs": [
    {
     "name": "stderr",
     "output_type": "stream",
     "text": [
      "C:\\Users\\Evrad\\Anaconda3\\lib\\site-packages\\tensorflow\\python\\client\\session.py:1702: UserWarning: An interactive session is already active. This can cause out-of-memory errors in some cases. You must explicitly call `InteractiveSession.close()` to release resources held by the other session(s).\n",
      "  warnings.warn('An interactive session is already active. This can '\n"
     ]
    },
    {
     "name": "stdout",
     "output_type": "stream",
     "text": [
      "Epoch 1. Training loss: 0.458. Validation loss: 0.439. Validation accuracy : 90.15%\n",
      "Epoch 2. Training loss: 0.430. Validation loss: 0.413. Validation accuracy : 90.15%\n",
      "Epoch 3. Training loss: 0.407. Validation loss: 0.392. Validation accuracy : 90.15%\n",
      "Epoch 4. Training loss: 0.389. Validation loss: 0.375. Validation accuracy : 90.15%\n",
      "Epoch 5. Training loss: 0.375. Validation loss: 0.362. Validation accuracy : 90.15%\n",
      "Epoch 6. Training loss: 0.364. Validation loss: 0.352. Validation accuracy : 90.15%\n",
      "Epoch 7. Training loss: 0.355. Validation loss: 0.344. Validation accuracy : 90.15%\n",
      "Epoch 8. Training loss: 0.349. Validation loss: 0.338. Validation accuracy : 90.15%\n",
      "Epoch 9. Training loss: 0.344. Validation loss: 0.333. Validation accuracy : 90.15%\n",
      "Epoch 10. Training loss: 0.340. Validation loss: 0.330. Validation accuracy : 90.15%\n",
      "Epoch 11. Training loss: 0.338. Validation loss: 0.327. Validation accuracy : 90.15%\n",
      "Epoch 12. Training loss: 0.336. Validation loss: 0.326. Validation accuracy : 90.15%\n",
      "Epoch 13. Training loss: 0.335. Validation loss: 0.325. Validation accuracy : 90.15%\n",
      "Epoch 14. Training loss: 0.334. Validation loss: 0.324. Validation accuracy : 90.15%\n",
      "Epoch 15. Training loss: 0.333. Validation loss: 0.323. Validation accuracy : 90.15%\n",
      "Epoch 16. Training loss: 0.333. Validation loss: 0.323. Validation accuracy : 90.15%\n",
      "Epoch 17. Training loss: 0.333. Validation loss: 0.322. Validation accuracy : 90.15%\n",
      "Epoch 18. Training loss: 0.333. Validation loss: 0.322. Validation accuracy : 90.15%\n",
      "Epoch 19. Training loss: 0.332. Validation loss: 0.322. Validation accuracy : 90.15%\n",
      "Epoch 20. Training loss: 0.332. Validation loss: 0.322. Validation accuracy : 90.15%\n",
      "Epoch 21. Training loss: 0.332. Validation loss: 0.322. Validation accuracy : 90.15%\n",
      "Epoch 22. Training loss: 0.332. Validation loss: 0.322. Validation accuracy : 90.15%\n",
      "Epoch 23. Training loss: 0.332. Validation loss: 0.322. Validation accuracy : 90.15%\n",
      "Epoch 24. Training loss: 0.332. Validation loss: 0.322. Validation accuracy : 90.15%\n",
      "Epoch 25. Training loss: 0.332. Validation loss: 0.322. Validation accuracy : 90.15%\n",
      "Epoch 26. Training loss: 0.332. Validation loss: 0.322. Validation accuracy : 90.15%\n",
      "Epoch 27. Training loss: 0.332. Validation loss: 0.322. Validation accuracy : 90.15%\n",
      "Epoch 28. Training loss: 0.332. Validation loss: 0.322. Validation accuracy : 90.15%\n",
      "Epoch 29. Training loss: 0.332. Validation loss: 0.322. Validation accuracy : 90.15%\n",
      "Epoch 30. Training loss: 0.332. Validation loss: 0.322. Validation accuracy : 90.15%\n",
      "Epoch 31. Training loss: 0.332. Validation loss: 0.322. Validation accuracy : 90.15%\n",
      "Epoch 32. Training loss: 0.332. Validation loss: 0.322. Validation accuracy : 90.15%\n",
      "Epoch 33. Training loss: 0.332. Validation loss: 0.322. Validation accuracy : 90.15%\n",
      "Epoch 34. Training loss: 0.332. Validation loss: 0.322. Validation accuracy : 90.15%\n",
      "End of training.\n"
     ]
    }
   ],
   "source": [
    "import tensorflow as tf\n",
    "\n",
    "input_size = 3\n",
    "output_size = 2\n",
    "\n",
    "hidden_layer_size = 50\n",
    "\n",
    "tf.reset_default_graph()\n",
    "\n",
    "inputs = tf.placeholder(tf.float32,[None, input_size])\n",
    "targets = tf.placeholder(tf.float32,[None, output_size])\n",
    "\n",
    "weights_1 = tf.get_variable(\"weights_1\", [input_size, hidden_layer_size])\n",
    "biases_1 = tf.get_variable(\"biases_1\", [hidden_layer_size])\n",
    "\n",
    "outputs_1=tf.nn.softmax(tf.matmul(inputs,weights_1)+biases_1)\n",
    "\n",
    "weights_2 = tf.get_variable(\"weights_2\", [hidden_layer_size, hidden_layer_size])\n",
    "biases_2 = tf.get_variable(\"biases_2\", [hidden_layer_size])\n",
    "\n",
    "outputs_2=tf.nn.softmax(tf.matmul(outputs_1,weights_2)+biases_2)\n",
    "\n",
    "weights_3 = tf.get_variable(\"weights_3\", [hidden_layer_size, hidden_layer_size])\n",
    "biases_3 = tf.get_variable(\"biases_3\", [hidden_layer_size])\n",
    "\n",
    "outputs_3=tf.nn.softmax(tf.matmul(outputs_2,weights_3)+biases_3)\n",
    "\n",
    "weights_4 = tf.get_variable(\"weights_4\", [hidden_layer_size, output_size])\n",
    "biases_4 = tf.get_variable(\"biases_4\", [output_size])\n",
    "\n",
    "outputs=tf.matmul(outputs_3,weights_4)+biases_4\n",
    "\n",
    "loss=tf.nn.sigmoid_cross_entropy_with_logits(labels= targets,logits=outputs)\n",
    "\n",
    "#loss=tf.nn.softmax_cross_entropy_with_logits(logits=outputs, labels= targets)\n",
    "\n",
    "mean_loss= tf.reduce_mean(loss)\n",
    "\n",
    "optimize=tf.train.AdamOptimizer(learning_rate=0.001).minimize(mean_loss)\n",
    "\n",
    "out_equals_target = tf.equal(tf.argmax(outputs,1), tf.argmax(targets,1))\n",
    "\n",
    "accuracy = tf.reduce_mean(tf.cast(out_equals_target, tf.float32))\n",
    "\n",
    "sess = tf.InteractiveSession()\n",
    "\n",
    "initializer = tf.global_variables_initializer()\n",
    "\n",
    "sess.run(initializer)\n",
    "\n",
    "batch_size = 100\n",
    "\n",
    "#batches_number = mnist.train._num_examples // batch_size\n",
    "\n",
    "max_epochs = 100\n",
    "\n",
    "prev_validation_loss = 9999999.\n",
    "\n",
    "train_data = Audiobooks_data_Reader('train', batch_size)\n",
    "validation_data = Audiobooks_data_Reader('validation')\n",
    "\n",
    "for epoch_counter in range(max_epochs):\n",
    "    curr_epoch_loss = 0.\n",
    "    \n",
    "    for input_batch, target_batch in train_data:\n",
    "        _, batch_loss = sess.run([optimize, mean_loss],\n",
    "        feed_dict={inputs: input_batch, targets: target_batch})\n",
    "        \n",
    "        curr_epoch_loss += batch_loss\n",
    "    \n",
    "    curr_epoch_loss /= train_data.batch_count\n",
    "    \n",
    "    validation_loss = 0.\n",
    "    validation_accuracy = 0.\n",
    "    \n",
    "    for input_batch, target_batch in validation_data:\n",
    "        validation_loss, validation_accuracy = sess.run([mean_loss, accuracy],\n",
    "        feed_dict={inputs: input_batch, targets: target_batch})\n",
    "    \n",
    "    print('Epoch '+str(epoch_counter+1)+\n",
    "        '. Training loss: '+'{0:.3f}'.format(curr_epoch_loss)+\n",
    "        '. Validation loss: '+'{0:.3f}'.format(validation_loss)+\n",
    "        '. Validation accuracy : '+'{0:.2f}'.format(validation_accuracy * 100.)+'%')\n",
    "    \n",
    "    if validation_loss > prev_validation_loss:\n",
    "        break\n",
    "        \n",
    "    prev_validation_loss=validation_loss\n",
    "    \n",
    "print('End of training.')"
   ]
  },
  {
   "cell_type": "code",
   "execution_count": 788,
   "metadata": {},
   "outputs": [
    {
     "name": "stdout",
     "output_type": "stream",
     "text": [
      "Test accuracy: 90.15%\n"
     ]
    }
   ],
   "source": [
    "test_data = Audiobooks_data_Reader('test')\n",
    "\n",
    "for input_batch, target_batch in test_data:\n",
    "    test_accuracy = sess.run([accuracy],\n",
    "                            feed_dict={inputs: input_batch, targets: target_batch})\n",
    "test_accuracy_percent = test_accuracy[0] * 100.\n",
    "print('Test accuracy: '+'{0:.2f}'.format(test_accuracy_percent)+'%')"
   ]
  },
  {
   "cell_type": "code",
   "execution_count": 789,
   "metadata": {},
   "outputs": [
    {
     "data": {
      "text/plain": [
       "<__main__.Audiobooks_data_Reader at 0x548bbea1d0>"
      ]
     },
     "execution_count": 789,
     "metadata": {},
     "output_type": "execute_result"
    }
   ],
   "source": [
    "test_data"
   ]
  },
  {
   "cell_type": "code",
   "execution_count": 792,
   "metadata": {},
   "outputs": [
    {
     "data": {
      "text/plain": [
       "tf.float32"
      ]
     },
     "execution_count": 792,
     "metadata": {},
     "output_type": "execute_result"
    }
   ],
   "source": [
    "outputs.dtype"
   ]
  },
  {
   "cell_type": "code",
   "execution_count": null,
   "metadata": {},
   "outputs": [],
   "source": []
  }
 ],
 "metadata": {
  "kernelspec": {
   "display_name": "Python 3",
   "language": "python",
   "name": "python3"
  },
  "language_info": {
   "codemirror_mode": {
    "name": "ipython",
    "version": 3
   },
   "file_extension": ".py",
   "mimetype": "text/x-python",
   "name": "python",
   "nbconvert_exporter": "python",
   "pygments_lexer": "ipython3",
   "version": "3.7.3"
  }
 },
 "nbformat": 4,
 "nbformat_minor": 2
}
