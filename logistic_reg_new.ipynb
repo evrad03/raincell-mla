{
 "cells": [
  {
   "cell_type": "code",
   "execution_count": 884,
   "metadata": {},
   "outputs": [],
   "source": [
    "import numpy as np\n",
    "import pandas as pd\n",
    "import matplotlib.pyplot as plt\n",
    "import statsmodels.api as sm\n",
    "import seaborn as sns\n",
    "sns.set()"
   ]
  },
  {
   "cell_type": "code",
   "execution_count": 1428,
   "metadata": {},
   "outputs": [
    {
     "data": {
      "text/html": [
       "<div>\n",
       "<style scoped>\n",
       "    .dataframe tbody tr th:only-of-type {\n",
       "        vertical-align: middle;\n",
       "    }\n",
       "\n",
       "    .dataframe tbody tr th {\n",
       "        vertical-align: top;\n",
       "    }\n",
       "\n",
       "    .dataframe thead th {\n",
       "        text-align: right;\n",
       "    }\n",
       "</style>\n",
       "<table border=\"1\" class=\"dataframe\">\n",
       "  <thead>\n",
       "    <tr style=\"text-align: right;\">\n",
       "      <th></th>\n",
       "      <th>Pmin</th>\n",
       "      <th>Pmax</th>\n",
       "      <th>Pavg</th>\n",
       "      <th>Pref</th>\n",
       "      <th>Pcmin</th>\n",
       "      <th>Pcavg</th>\n",
       "      <th>Pcmax</th>\n",
       "      <th>Amin</th>\n",
       "      <th>Aavg</th>\n",
       "      <th>Amax</th>\n",
       "      <th>Ramin</th>\n",
       "      <th>Ramax</th>\n",
       "      <th>Ravg</th>\n",
       "      <th>Rain</th>\n",
       "    </tr>\n",
       "  </thead>\n",
       "  <tbody>\n",
       "    <tr>\n",
       "      <th>0</th>\n",
       "      <td>-49</td>\n",
       "      <td>-49</td>\n",
       "      <td>-49.0</td>\n",
       "      <td>-49.00</td>\n",
       "      <td>-49.00</td>\n",
       "      <td>-49.00</td>\n",
       "      <td>-49.00</td>\n",
       "      <td>0.0</td>\n",
       "      <td>0.0</td>\n",
       "      <td>0.0</td>\n",
       "      <td>3.00</td>\n",
       "      <td>3.00</td>\n",
       "      <td>3.00</td>\n",
       "      <td>0</td>\n",
       "    </tr>\n",
       "    <tr>\n",
       "      <th>1</th>\n",
       "      <td>-49</td>\n",
       "      <td>-48</td>\n",
       "      <td>-48.5</td>\n",
       "      <td>-48.75</td>\n",
       "      <td>-48.75</td>\n",
       "      <td>-48.75</td>\n",
       "      <td>-48.75</td>\n",
       "      <td>0.0</td>\n",
       "      <td>0.0</td>\n",
       "      <td>0.0</td>\n",
       "      <td>2.75</td>\n",
       "      <td>2.75</td>\n",
       "      <td>2.75</td>\n",
       "      <td>0</td>\n",
       "    </tr>\n",
       "    <tr>\n",
       "      <th>2</th>\n",
       "      <td>-49</td>\n",
       "      <td>-48</td>\n",
       "      <td>-48.5</td>\n",
       "      <td>-48.50</td>\n",
       "      <td>-48.50</td>\n",
       "      <td>-48.50</td>\n",
       "      <td>-48.50</td>\n",
       "      <td>0.0</td>\n",
       "      <td>0.0</td>\n",
       "      <td>0.0</td>\n",
       "      <td>2.50</td>\n",
       "      <td>2.50</td>\n",
       "      <td>2.50</td>\n",
       "      <td>0</td>\n",
       "    </tr>\n",
       "    <tr>\n",
       "      <th>3</th>\n",
       "      <td>-49</td>\n",
       "      <td>-48</td>\n",
       "      <td>-48.5</td>\n",
       "      <td>-48.50</td>\n",
       "      <td>-48.50</td>\n",
       "      <td>-48.50</td>\n",
       "      <td>-48.50</td>\n",
       "      <td>0.0</td>\n",
       "      <td>0.0</td>\n",
       "      <td>0.0</td>\n",
       "      <td>2.50</td>\n",
       "      <td>2.50</td>\n",
       "      <td>2.50</td>\n",
       "      <td>0</td>\n",
       "    </tr>\n",
       "    <tr>\n",
       "      <th>4</th>\n",
       "      <td>-49</td>\n",
       "      <td>-48</td>\n",
       "      <td>-48.5</td>\n",
       "      <td>-48.50</td>\n",
       "      <td>-48.50</td>\n",
       "      <td>-48.50</td>\n",
       "      <td>-48.50</td>\n",
       "      <td>0.0</td>\n",
       "      <td>0.0</td>\n",
       "      <td>0.0</td>\n",
       "      <td>2.50</td>\n",
       "      <td>2.50</td>\n",
       "      <td>2.50</td>\n",
       "      <td>0</td>\n",
       "    </tr>\n",
       "  </tbody>\n",
       "</table>\n",
       "</div>"
      ],
      "text/plain": [
       "   Pmin  Pmax  Pavg   Pref  Pcmin  Pcavg  Pcmax  Amin  Aavg  Amax  Ramin  \\\n",
       "0   -49   -49 -49.0 -49.00 -49.00 -49.00 -49.00   0.0   0.0   0.0   3.00   \n",
       "1   -49   -48 -48.5 -48.75 -48.75 -48.75 -48.75   0.0   0.0   0.0   2.75   \n",
       "2   -49   -48 -48.5 -48.50 -48.50 -48.50 -48.50   0.0   0.0   0.0   2.50   \n",
       "3   -49   -48 -48.5 -48.50 -48.50 -48.50 -48.50   0.0   0.0   0.0   2.50   \n",
       "4   -49   -48 -48.5 -48.50 -48.50 -48.50 -48.50   0.0   0.0   0.0   2.50   \n",
       "\n",
       "   Ramax  Ravg  Rain  \n",
       "0   3.00  3.00     0  \n",
       "1   2.75  2.75     0  \n",
       "2   2.50  2.50     0  \n",
       "3   2.50  2.50     0  \n",
       "4   2.50  2.50     0  "
      ]
     },
     "execution_count": 1428,
     "metadata": {},
     "output_type": "execute_result"
    }
   ],
   "source": [
    "data = pd.read_csv('Data_Holland/mwl1558_C2.csv')\n",
    "data.head()"
   ]
  },
  {
   "cell_type": "code",
   "execution_count": 1429,
   "metadata": {},
   "outputs": [],
   "source": [
    "xpts=np.array(data['Ramin'])\n",
    "ypts=np.array(data['Ravg'])\n",
    "zpts=np.array(data['Ramax'])\n",
    "#x1=np.vstack((xpts,ypts,zpts))\n",
    "x1=np.array(data['Ravg'])\n",
    "y=np.array(data['Rain'])\n",
    "x1=x1.T"
   ]
  },
  {
   "cell_type": "code",
   "execution_count": 1430,
   "metadata": {},
   "outputs": [
    {
     "data": {
      "text/plain": [
       "(1734,)"
      ]
     },
     "execution_count": 1430,
     "metadata": {},
     "output_type": "execute_result"
    }
   ],
   "source": [
    "num_one_targets = int(np.sum(y))\n",
    "zero_targets_counter = 0\n",
    "indices_to_remove = []\n",
    "for i in range(y.shape[0]):\n",
    "    if y[i] == 0:\n",
    "        zero_targets_counter += 1\n",
    "        if zero_targets_counter > num_one_targets:\n",
    "            indices_to_remove.append(i)\n",
    "            \n",
    "x1 = np.delete(x1, indices_to_remove, axis = 0)\n",
    "y = np.delete(y, indices_to_remove, axis = 0)\n",
    "x1.shape"
   ]
  },
  {
   "cell_type": "code",
   "execution_count": 1431,
   "metadata": {},
   "outputs": [],
   "source": [
    "#plt.scatter(data['Ravg'],data['Rain'])\n",
    "#plt.xlabel('Average rounded attenuation')\n",
    "#plt.ylabel('Rain')\n"
   ]
  },
  {
   "cell_type": "code",
   "execution_count": 1432,
   "metadata": {},
   "outputs": [],
   "source": [
    "x1=sm.add_constant(x1)\n",
    "from sklearn.model_selection import train_test_split\n",
    "X_train, X_test, y_train, y_test = train_test_split(x1, y, test_size=0.21, shuffle=True)"
   ]
  },
  {
   "cell_type": "code",
   "execution_count": 1433,
   "metadata": {},
   "outputs": [
    {
     "name": "stdout",
     "output_type": "stream",
     "text": [
      "Optimization terminated successfully.\n",
      "         Current function value: 0.434081\n",
      "         Iterations 9\n"
     ]
    }
   ],
   "source": [
    "reg_log=sm.Logit(y_train,X_train)\n",
    "results_log=reg_log.fit()\n",
    "def f(x,b0,b1):\n",
    "    return np.array(np.exp(b0+x*b1) / (1+np.exp(b0+x*b1)))\n",
    "f_sorted=np.sort(f(X_train[:,1],results_log.params[0],results_log.params[1]))\n",
    "x_sorted=np.sort(np.array(X_train[:,1]))"
   ]
  },
  {
   "cell_type": "code",
   "execution_count": 1434,
   "metadata": {},
   "outputs": [
    {
     "data": {
      "text/plain": [
       "(1734,)"
      ]
     },
     "execution_count": 1434,
     "metadata": {},
     "output_type": "execute_result"
    }
   ],
   "source": [
    "y.shape"
   ]
  },
  {
   "cell_type": "code",
   "execution_count": 1435,
   "metadata": {},
   "outputs": [
    {
     "data": {
      "text/plain": [
       "[<matplotlib.lines.Line2D at 0x6a0fc09518>]"
      ]
     },
     "execution_count": 1435,
     "metadata": {},
     "output_type": "execute_result"
    },
    {
     "data": {
      "image/png": "[encoded data removed]",
      "text/plain": [
       "<Figure size 432x288 with 1 Axes>"
      ]
     },
     "metadata": {},
     "output_type": "display_data"
    }
   ],
   "source": [
    "plt.scatter(X_train[:,1],y_train,color='C0')\n",
    "plt.xlabel('Raw average attenuation')\n",
    "plt.ylabel('Rain')\n",
    "plt.plot(x_sorted,f_sorted,color='C3')\n",
    "#plt.savefig('logit1687.eps')\n",
    "#plt.show()"
   ]
  },
  {
   "cell_type": "code",
   "execution_count": 1436,
   "metadata": {},
   "outputs": [
    {
     "data": {
      "text/html": [
       "<table class=\"simpletable\">\n",
       "<caption>Logit Regression Results</caption>\n",
       "<tr>\n",
       "  <th>Dep. Variable:</th>         <td>y</td>        <th>  No. Observations:  </th>   <td>  1369</td>  \n",
       "</tr>\n",
       "<tr>\n",
       "  <th>Model:</th>               <td>Logit</td>      <th>  Df Residuals:      </th>   <td>  1367</td>  \n",
       "</tr>\n",
       "<tr>\n",
       "  <th>Method:</th>               <td>MLE</td>       <th>  Df Model:          </th>   <td>     1</td>  \n",
       "</tr>\n",
       "<tr>\n",
       "  <th>Date:</th>          <td>Mon, 08 Feb 2021</td> <th>  Pseudo R-squ.:     </th>   <td>0.3738</td>  \n",
       "</tr>\n",
       "<tr>\n",
       "  <th>Time:</th>              <td>15:31:56</td>     <th>  Log-Likelihood:    </th>  <td> -594.26</td> \n",
       "</tr>\n",
       "<tr>\n",
       "  <th>converged:</th>           <td>True</td>       <th>  LL-Null:           </th>  <td> -948.92</td> \n",
       "</tr>\n",
       "<tr>\n",
       "  <th> </th>                      <td> </td>        <th>  LLR p-value:       </th> <td>2.809e-156</td>\n",
       "</tr>\n",
       "</table>\n",
       "<table class=\"simpletable\">\n",
       "<tr>\n",
       "    <td></td>       <th>coef</th>     <th>std err</th>      <th>z</th>      <th>P>|z|</th>  <th>[0.025</th>    <th>0.975]</th>  \n",
       "</tr>\n",
       "<tr>\n",
       "  <th>const</th> <td>  -10.5122</td> <td>    0.677</td> <td>  -15.528</td> <td> 0.000</td> <td>  -11.839</td> <td>   -9.185</td>\n",
       "</tr>\n",
       "<tr>\n",
       "  <th>x1</th>    <td>    4.0245</td> <td>    0.262</td> <td>   15.374</td> <td> 0.000</td> <td>    3.511</td> <td>    4.538</td>\n",
       "</tr>\n",
       "</table>"
      ],
      "text/plain": [
       "<class 'statsmodels.iolib.summary.Summary'>\n",
       "\"\"\"\n",
       "                           Logit Regression Results                           \n",
       "==============================================================================\n",
       "Dep. Variable:                      y   No. Observations:                 1369\n",
       "Model:                          Logit   Df Residuals:                     1367\n",
       "Method:                           MLE   Df Model:                            1\n",
       "Date:                Mon, 08 Feb 2021   Pseudo R-squ.:                  0.3738\n",
       "Time:                        15:31:56   Log-Likelihood:                -594.26\n",
       "converged:                       True   LL-Null:                       -948.92\n",
       "                                        LLR p-value:                2.809e-156\n",
       "==============================================================================\n",
       "                 coef    std err          z      P>|z|      [0.025      0.975]\n",
       "------------------------------------------------------------------------------\n",
       "const        -10.5122      0.677    -15.528      0.000     -11.839      -9.185\n",
       "x1             4.0245      0.262     15.374      0.000       3.511       4.538\n",
       "==============================================================================\n",
       "\"\"\""
      ]
     },
     "execution_count": 1436,
     "metadata": {},
     "output_type": "execute_result"
    }
   ],
   "source": [
    "results_log.summary()"
   ]
  },
  {
   "cell_type": "code",
   "execution_count": 1437,
   "metadata": {},
   "outputs": [
    {
     "data": {
      "text/plain": [
       "array([[663.,  21.],\n",
       "       [ 86., 599.]])"
      ]
     },
     "execution_count": 1437,
     "metadata": {},
     "output_type": "execute_result"
    }
   ],
   "source": [
    "results_log.pred_table()"
   ]
  },
  {
   "cell_type": "code",
   "execution_count": 1438,
   "metadata": {},
   "outputs": [
    {
     "name": "stderr",
     "output_type": "stream",
     "text": [
      "C:\\Users\\Evrad\\Anaconda3\\lib\\site-packages\\numpy\\core\\fromnumeric.py:2389: FutureWarning: Method .ptp is deprecated and will be removed in a future version. Use numpy.ptp instead.\n",
      "  return ptp(axis=axis, out=out, **kwargs)\n"
     ]
    },
    {
     "data": {
      "text/html": [
       "<div>\n",
       "<style scoped>\n",
       "    .dataframe tbody tr th:only-of-type {\n",
       "        vertical-align: middle;\n",
       "    }\n",
       "\n",
       "    .dataframe tbody tr th {\n",
       "        vertical-align: top;\n",
       "    }\n",
       "\n",
       "    .dataframe thead th {\n",
       "        text-align: right;\n",
       "    }\n",
       "</style>\n",
       "<table border=\"1\" class=\"dataframe\">\n",
       "  <thead>\n",
       "    <tr style=\"text-align: right;\">\n",
       "      <th></th>\n",
       "      <th>const</th>\n",
       "      <th>Ramin</th>\n",
       "      <th>Ravg</th>\n",
       "      <th>Ramax</th>\n",
       "    </tr>\n",
       "  </thead>\n",
       "  <tbody>\n",
       "    <tr>\n",
       "      <th>0</th>\n",
       "      <td>1.0</td>\n",
       "      <td>3.00</td>\n",
       "      <td>3.00</td>\n",
       "      <td>3.00</td>\n",
       "    </tr>\n",
       "    <tr>\n",
       "      <th>1</th>\n",
       "      <td>1.0</td>\n",
       "      <td>2.75</td>\n",
       "      <td>2.75</td>\n",
       "      <td>2.75</td>\n",
       "    </tr>\n",
       "    <tr>\n",
       "      <th>2</th>\n",
       "      <td>1.0</td>\n",
       "      <td>2.50</td>\n",
       "      <td>2.50</td>\n",
       "      <td>2.50</td>\n",
       "    </tr>\n",
       "    <tr>\n",
       "      <th>3</th>\n",
       "      <td>1.0</td>\n",
       "      <td>2.50</td>\n",
       "      <td>2.50</td>\n",
       "      <td>2.50</td>\n",
       "    </tr>\n",
       "    <tr>\n",
       "      <th>4</th>\n",
       "      <td>1.0</td>\n",
       "      <td>2.50</td>\n",
       "      <td>2.50</td>\n",
       "      <td>2.50</td>\n",
       "    </tr>\n",
       "  </tbody>\n",
       "</table>\n",
       "</div>"
      ],
      "text/plain": [
       "   const  Ramin  Ravg  Ramax\n",
       "0    1.0   3.00  3.00   3.00\n",
       "1    1.0   2.75  2.75   2.75\n",
       "2    1.0   2.50  2.50   2.50\n",
       "3    1.0   2.50  2.50   2.50\n",
       "4    1.0   2.50  2.50   2.50"
      ]
     },
     "execution_count": 1438,
     "metadata": {},
     "output_type": "execute_result"
    }
   ],
   "source": [
    "test_data = pd.read_csv('Data_Holland/mwl1558_C2.csv')\n",
    "test_d=test_data[['Ramin','Ravg','Ramax']]\n",
    "test_actual=test_data['Rain']\n",
    "test_d=sm.add_constant(test_d)\n",
    "test_d.head()"
   ]
  },
  {
   "cell_type": "code",
   "execution_count": 1439,
   "metadata": {},
   "outputs": [],
   "source": [
    "def confusion_matrix(data,actual_values,model):\n",
    "    pred_values=model.predict(data)\n",
    "    bins=np.array([0,0.5,1])\n",
    "    cm=np.histogram2d(actual_values,pred_values, bins=bins)[0]\n",
    "    accuracy=(cm[0,0]+cm[1,1])/cm.sum()\n",
    "    return cm,accuracy"
   ]
  },
  {
   "cell_type": "code",
   "execution_count": 1441,
   "metadata": {},
   "outputs": [
    {
     "data": {
      "text/plain": [
       "(array([[179.,   4.],\n",
       "        [ 29., 153.]]), 0.9095890410958904)"
      ]
     },
     "execution_count": 1441,
     "metadata": {},
     "output_type": "execute_result"
    }
   ],
   "source": [
    "cm=confusion_matrix(X_test,y_test,results_log)\n",
    "cm"
   ]
  },
  {
   "cell_type": "code",
   "execution_count": 1442,
   "metadata": {},
   "outputs": [],
   "source": [
    "y_scores=results_log.predict(X_test)"
   ]
  },
  {
   "cell_type": "code",
   "execution_count": 1443,
   "metadata": {},
   "outputs": [
    {
     "data": {
      "text/html": [
       "<table class=\"simpletable\">\n",
       "<tr>\n",
       "        <td>Model:</td>              <td>Logit</td>      <td>Pseudo R-squared:</td>    <td>0.374</td>   \n",
       "</tr>\n",
       "<tr>\n",
       "  <td>Dependent Variable:</td>         <td>y</td>              <td>AIC:</td>         <td>1192.5138</td> \n",
       "</tr>\n",
       "<tr>\n",
       "         <td>Date:</td>        <td>2021-02-08 15:32</td>       <td>BIC:</td>         <td>1202.9575</td> \n",
       "</tr>\n",
       "<tr>\n",
       "   <td>No. Observations:</td>        <td>1369</td>        <td>Log-Likelihood:</td>    <td>-594.26</td>  \n",
       "</tr>\n",
       "<tr>\n",
       "       <td>Df Model:</td>              <td>1</td>            <td>LL-Null:</td>        <td>-948.92</td>  \n",
       "</tr>\n",
       "<tr>\n",
       "     <td>Df Residuals:</td>          <td>1367</td>         <td>LLR p-value:</td>    <td>2.8087e-156</td>\n",
       "</tr>\n",
       "<tr>\n",
       "      <td>Converged:</td>           <td>1.0000</td>           <td>Scale:</td>         <td>1.0000</td>   \n",
       "</tr>\n",
       "<tr>\n",
       "    <td>No. Iterations:</td>        <td>9.0000</td>              <td></td>               <td></td>      \n",
       "</tr>\n",
       "</table>\n",
       "<table class=\"simpletable\">\n",
       "<tr>\n",
       "    <td></td>      <th>Coef.</th>  <th>Std.Err.</th>     <th>z</th>     <th>P>|z|</th>  <th>[0.025</th>  <th>0.975]</th> \n",
       "</tr>\n",
       "<tr>\n",
       "  <th>const</th> <td>-10.5122</td>  <td>0.6770</td>  <td>-15.5284</td> <td>0.0000</td> <td>-11.8391</td> <td>-9.1854</td>\n",
       "</tr>\n",
       "<tr>\n",
       "  <th>x1</th>     <td>4.0245</td>   <td>0.2618</td>   <td>15.3742</td> <td>0.0000</td>  <td>3.5114</td>  <td>4.5375</td> \n",
       "</tr>\n",
       "</table>"
      ],
      "text/plain": [
       "<class 'statsmodels.iolib.summary2.Summary'>\n",
       "\"\"\"\n",
       "                          Results: Logit\n",
       "==================================================================\n",
       "Model:              Logit            Pseudo R-squared: 0.374      \n",
       "Dependent Variable: y                AIC:              1192.5138  \n",
       "Date:               2021-02-08 15:32 BIC:              1202.9575  \n",
       "No. Observations:   1369             Log-Likelihood:   -594.26    \n",
       "Df Model:           1                LL-Null:          -948.92    \n",
       "Df Residuals:       1367             LLR p-value:      2.8087e-156\n",
       "Converged:          1.0000           Scale:            1.0000     \n",
       "No. Iterations:     9.0000                                        \n",
       "--------------------------------------------------------------------\n",
       "         Coef.     Std.Err.      z       P>|z|     [0.025     0.975]\n",
       "--------------------------------------------------------------------\n",
       "const   -10.5122     0.6770   -15.5284   0.0000   -11.8391   -9.1854\n",
       "x1        4.0245     0.2618    15.3742   0.0000     3.5114    4.5375\n",
       "==================================================================\n",
       "\n",
       "\"\"\""
      ]
     },
     "execution_count": 1443,
     "metadata": {},
     "output_type": "execute_result"
    }
   ],
   "source": [
    "results_log.summary2()"
   ]
  },
  {
   "cell_type": "code",
   "execution_count": 1444,
   "metadata": {},
   "outputs": [
    {
     "data": {
      "text/plain": [
       "0.4108305243599878"
      ]
     },
     "execution_count": 1444,
     "metadata": {},
     "output_type": "execute_result"
    }
   ],
   "source": [
    "from sklearn.metrics import log_loss  \n",
    "# where y_pred are probabilities and y_true are binary class labels\n",
    "log_loss(y_test, y_scores, eps=1e-15)"
   ]
  },
  {
   "cell_type": "code",
   "execution_count": 1445,
   "metadata": {},
   "outputs": [
    {
     "name": "stdout",
     "output_type": "stream",
     "text": [
      "0.9309283612562301\n"
     ]
    }
   ],
   "source": [
    "from sklearn.metrics import roc_auc_score\n",
    "print(roc_auc_score(y_test, y_scores))"
   ]
  },
  {
   "cell_type": "code",
   "execution_count": 1446,
   "metadata": {},
   "outputs": [],
   "source": [
    "y_scores=np.round(y_scores)\n",
    "y_scores=y_scores.astype(np.int64)"
   ]
  },
  {
   "cell_type": "code",
   "execution_count": 1447,
   "metadata": {},
   "outputs": [
    {
     "name": "stdout",
     "output_type": "stream",
     "text": [
      "              precision    recall  f1-score   support\n",
      "\n",
      "           0       0.86      0.98      0.92       183\n",
      "           1       0.97      0.84      0.90       182\n",
      "\n",
      "   micro avg       0.91      0.91      0.91       365\n",
      "   macro avg       0.92      0.91      0.91       365\n",
      "weighted avg       0.92      0.91      0.91       365\n",
      "\n"
     ]
    }
   ],
   "source": [
    "from sklearn.metrics import classification_report\n",
    "print(classification_report(y_test, y_scores))"
   ]
  },
  {
   "cell_type": "code",
   "execution_count": null,
   "metadata": {},
   "outputs": [],
   "source": []
  },
  {
   "cell_type": "code",
   "execution_count": null,
   "metadata": {},
   "outputs": [],
   "source": []
  }
 ],
 "metadata": {
  "kernelspec": {
   "display_name": "Python 3",
   "language": "python",
   "name": "python3"
  },
  "language_info": {
   "codemirror_mode": {
    "name": "ipython",
    "version": 3
   },
   "file_extension": ".py",
   "mimetype": "text/x-python",
   "name": "python",
   "nbconvert_exporter": "python",
   "pygments_lexer": "ipython3",
   "version": "3.7.3"
  }
 },
 "nbformat": 4,
 "nbformat_minor": 2
}
