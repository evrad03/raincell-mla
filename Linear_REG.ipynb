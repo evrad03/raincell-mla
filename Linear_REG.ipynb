{
 "cells": [
  {
   "cell_type": "code",
   "execution_count": 4254,
   "metadata": {},
   "outputs": [],
   "source": [
    "import numpy as np\n",
    "import pandas as pd\n",
    "import matplotlib.pyplot as plt\n",
    "import seaborn as sns\n",
    "sns.set()\n",
    "from sklearn.cluster import KMeans\n",
    "from sklearn.linear_model import LinearRegression\n",
    "from sklearn.metrics import mean_absolute_error \n",
    "from sklearn.metrics import mean_squared_error "
   ]
  },
  {
   "cell_type": "code",
   "execution_count": 5104,
   "metadata": {},
   "outputs": [
    {
     "name": "stdout",
     "output_type": "stream",
     "text": [
      "(986, 14)\n"
     ]
    },
    {
     "data": {
      "text/html": [
       "<div>\n",
       "<style scoped>\n",
       "    .dataframe tbody tr th:only-of-type {\n",
       "        vertical-align: middle;\n",
       "    }\n",
       "\n",
       "    .dataframe tbody tr th {\n",
       "        vertical-align: top;\n",
       "    }\n",
       "\n",
       "    .dataframe thead th {\n",
       "        text-align: right;\n",
       "    }\n",
       "</style>\n",
       "<table border=\"1\" class=\"dataframe\">\n",
       "  <thead>\n",
       "    <tr style=\"text-align: right;\">\n",
       "      <th></th>\n",
       "      <th>Pmin</th>\n",
       "      <th>Pmax</th>\n",
       "      <th>Pavg</th>\n",
       "      <th>Pref</th>\n",
       "      <th>Pcmin</th>\n",
       "      <th>Pcavg</th>\n",
       "      <th>Pcmax</th>\n",
       "      <th>Amin</th>\n",
       "      <th>Aavg</th>\n",
       "      <th>Amax</th>\n",
       "      <th>Ramin</th>\n",
       "      <th>Ramax</th>\n",
       "      <th>Ravg</th>\n",
       "      <th>Rain</th>\n",
       "    </tr>\n",
       "  </thead>\n",
       "  <tbody>\n",
       "    <tr>\n",
       "      <th>0</th>\n",
       "      <td>-55</td>\n",
       "      <td>-53</td>\n",
       "      <td>-54.0</td>\n",
       "      <td>-54.5</td>\n",
       "      <td>-55.0</td>\n",
       "      <td>-54.75</td>\n",
       "      <td>-54.5</td>\n",
       "      <td>0.0</td>\n",
       "      <td>0.25</td>\n",
       "      <td>0.5</td>\n",
       "      <td>4.0</td>\n",
       "      <td>3.5</td>\n",
       "      <td>3.75</td>\n",
       "      <td>0.13</td>\n",
       "    </tr>\n",
       "    <tr>\n",
       "      <th>1</th>\n",
       "      <td>-55</td>\n",
       "      <td>-53</td>\n",
       "      <td>-54.0</td>\n",
       "      <td>-54.5</td>\n",
       "      <td>-55.0</td>\n",
       "      <td>-54.75</td>\n",
       "      <td>-54.5</td>\n",
       "      <td>0.0</td>\n",
       "      <td>0.25</td>\n",
       "      <td>0.5</td>\n",
       "      <td>4.0</td>\n",
       "      <td>3.5</td>\n",
       "      <td>3.75</td>\n",
       "      <td>0.03</td>\n",
       "    </tr>\n",
       "    <tr>\n",
       "      <th>2</th>\n",
       "      <td>-55</td>\n",
       "      <td>-54</td>\n",
       "      <td>-54.5</td>\n",
       "      <td>-54.5</td>\n",
       "      <td>-55.0</td>\n",
       "      <td>-54.75</td>\n",
       "      <td>-54.5</td>\n",
       "      <td>0.0</td>\n",
       "      <td>0.25</td>\n",
       "      <td>0.5</td>\n",
       "      <td>4.0</td>\n",
       "      <td>3.5</td>\n",
       "      <td>3.75</td>\n",
       "      <td>0.19</td>\n",
       "    </tr>\n",
       "    <tr>\n",
       "      <th>3</th>\n",
       "      <td>-56</td>\n",
       "      <td>-54</td>\n",
       "      <td>-55.0</td>\n",
       "      <td>-54.5</td>\n",
       "      <td>-56.0</td>\n",
       "      <td>-55.25</td>\n",
       "      <td>-54.5</td>\n",
       "      <td>0.0</td>\n",
       "      <td>0.75</td>\n",
       "      <td>1.5</td>\n",
       "      <td>5.0</td>\n",
       "      <td>3.5</td>\n",
       "      <td>4.25</td>\n",
       "      <td>0.14</td>\n",
       "    </tr>\n",
       "    <tr>\n",
       "      <th>4</th>\n",
       "      <td>-56</td>\n",
       "      <td>-54</td>\n",
       "      <td>-55.0</td>\n",
       "      <td>-54.5</td>\n",
       "      <td>-56.0</td>\n",
       "      <td>-55.25</td>\n",
       "      <td>-54.5</td>\n",
       "      <td>0.0</td>\n",
       "      <td>0.75</td>\n",
       "      <td>1.5</td>\n",
       "      <td>5.0</td>\n",
       "      <td>3.5</td>\n",
       "      <td>4.25</td>\n",
       "      <td>0.14</td>\n",
       "    </tr>\n",
       "  </tbody>\n",
       "</table>\n",
       "</div>"
      ],
      "text/plain": [
       "   Pmin  Pmax  Pavg  Pref  Pcmin  Pcavg  Pcmax  Amin  Aavg  Amax  Ramin  \\\n",
       "0   -55   -53 -54.0 -54.5  -55.0 -54.75  -54.5   0.0  0.25   0.5    4.0   \n",
       "1   -55   -53 -54.0 -54.5  -55.0 -54.75  -54.5   0.0  0.25   0.5    4.0   \n",
       "2   -55   -54 -54.5 -54.5  -55.0 -54.75  -54.5   0.0  0.25   0.5    4.0   \n",
       "3   -56   -54 -55.0 -54.5  -56.0 -55.25  -54.5   0.0  0.75   1.5    5.0   \n",
       "4   -56   -54 -55.0 -54.5  -56.0 -55.25  -54.5   0.0  0.75   1.5    5.0   \n",
       "\n",
       "   Ramax  Ravg  Rain  \n",
       "0    3.5  3.75  0.13  \n",
       "1    3.5  3.75  0.03  \n",
       "2    3.5  3.75  0.19  \n",
       "3    3.5  4.25  0.14  \n",
       "4    3.5  4.25  0.14  "
      ]
     },
     "execution_count": 5104,
     "metadata": {},
     "output_type": "execute_result"
    }
   ],
   "source": [
    "data = pd.read_csv('Data_Holland/mwl1687_R.csv')\n",
    "data = pd.DataFrame(data)\n",
    "#data=pd.concat([data,data,data,data,data,data,data,data,data,data,data,data,data])\n",
    "print(data.shape)\n",
    "data.head()"
   ]
  },
  {
   "cell_type": "code",
   "execution_count": 5105,
   "metadata": {},
   "outputs": [
    {
     "data": {
      "text/plain": [
       "Text(0, 0.5, 'Rain rate')"
      ]
     },
     "execution_count": 5105,
     "metadata": {},
     "output_type": "execute_result"
    },
    {
     "data": {
      "image/png": "[encoded data removed]",
      "text/plain": [
       "<Figure size 432x288 with 1 Axes>"
      ]
     },
     "metadata": {},
     "output_type": "display_data"
    }
   ],
   "source": [
    "xpts=np.array(data['Ramin'])\n",
    "ypts=np.array(data['Ravg'])\n",
    "zpts=np.array(data['Ramax'])\n",
    "\n",
    "apts=np.array(data['Pmin'])\n",
    "bpts=np.array(data['Pavg'])\n",
    "cpts=np.array(data['Pmax'])\n",
    "\n",
    "X=np.vstack((xpts,ypts,zpts,apts,bpts,cpts))\n",
    "X=X.T\n",
    "\n",
    "y=np.array(data['Rain'])\n",
    "y=np.vstack((y))\n",
    "X.shape\n",
    "\n",
    "plt.scatter(data['Ravg'],data['Rain'])\n",
    "plt.xlabel(' Rounded average attenuation')\n",
    "plt.ylabel('Rain rate')\n",
    "#plt.savefig('cloud23.eps')"
   ]
  },
  {
   "cell_type": "code",
   "execution_count": 5106,
   "metadata": {},
   "outputs": [],
   "source": [
    "from sklearn.preprocessing import StandardScaler\n",
    "scaler = StandardScaler()\n",
    "scaler.fit(X)\n",
    "X = scaler.transform(X)"
   ]
  },
  {
   "cell_type": "code",
   "execution_count": 5107,
   "metadata": {},
   "outputs": [],
   "source": [
    "from sklearn.model_selection import train_test_split\n",
    "X_train, X_test, y_train, y_test = train_test_split(X, y, test_size=0.20, shuffle=True)"
   ]
  },
  {
   "cell_type": "code",
   "execution_count": 5108,
   "metadata": {},
   "outputs": [
    {
     "data": {
      "text/plain": [
       "(788, 6)"
      ]
     },
     "execution_count": 5108,
     "metadata": {},
     "output_type": "execute_result"
    }
   ],
   "source": [
    "X_train.shape"
   ]
  },
  {
   "cell_type": "code",
   "execution_count": 5109,
   "metadata": {},
   "outputs": [],
   "source": [
    "reg= LinearRegression()"
   ]
  },
  {
   "cell_type": "code",
   "execution_count": 5110,
   "metadata": {},
   "outputs": [
    {
     "data": {
      "text/plain": [
       "LinearRegression(copy_X=True, fit_intercept=True, n_jobs=None,\n",
       "         normalize=False)"
      ]
     },
     "execution_count": 5110,
     "metadata": {},
     "output_type": "execute_result"
    }
   ],
   "source": [
    "reg.fit(X_train,y_train)"
   ]
  },
  {
   "cell_type": "code",
   "execution_count": 5111,
   "metadata": {},
   "outputs": [
    {
     "data": {
      "text/plain": [
       "array([[-3.98722901e+11,  4.55739086e+11, -9.00560397e+10,\n",
       "        -1.37298992e+12,  1.59700784e+12, -3.92857522e+11]])"
      ]
     },
     "execution_count": 5111,
     "metadata": {},
     "output_type": "execute_result"
    }
   ],
   "source": [
    "reg.coef_"
   ]
  },
  {
   "cell_type": "code",
   "execution_count": 5112,
   "metadata": {},
   "outputs": [
    {
     "data": {
      "text/plain": [
       "array([0.34835514])"
      ]
     },
     "execution_count": 5112,
     "metadata": {},
     "output_type": "execute_result"
    }
   ],
   "source": [
    "reg.intercept_"
   ]
  },
  {
   "cell_type": "code",
   "execution_count": 5113,
   "metadata": {},
   "outputs": [
    {
     "name": "stdout",
     "output_type": "stream",
     "text": [
      "(788, 1)\n"
     ]
    }
   ],
   "source": [
    "XR=reg.predict(X_train)\n",
    "print(XR.shape)\n",
    "yhat=reg.predict(X_train)"
   ]
  },
  {
   "cell_type": "code",
   "execution_count": 5114,
   "metadata": {},
   "outputs": [
    {
     "data": {
      "text/plain": [
       "Text(0, 0.5, 'Predictions (rain rate)')"
      ]
     },
     "execution_count": 5114,
     "metadata": {},
     "output_type": "execute_result"
    },
    {
     "data": {
      "image/png": "[encoded data removed]",
      "text/plain": [
       "<Figure size 432x288 with 1 Axes>"
      ]
     },
     "metadata": {},
     "output_type": "display_data"
    }
   ],
   "source": [
    "fig=plt.scatter(y_train,yhat)\n",
    "ab=ordo=range(0,21)\n",
    "fig=plt.plot(ab,ordo)\n",
    "plt.xlabel('Targets (observed rain rate)',size=14)\n",
    "plt.ylabel('Predictions (rain rate)',size=14)\n",
    "#plt.savefig('train23.eps')"
   ]
  },
  {
   "cell_type": "code",
   "execution_count": 5115,
   "metadata": {},
   "outputs": [
    {
     "data": {
      "image/png": "[encoded data removed]",
      "text/plain": [
       "<Figure size 432x288 with 1 Axes>"
      ]
     },
     "metadata": {},
     "output_type": "display_data"
    }
   ],
   "source": [
    "sns.distplot(y_train-yhat)\n",
    "#y_train.shape, yhat.shape\n",
    "plt.savefig('residuals526A.eps')"
   ]
  },
  {
   "cell_type": "code",
   "execution_count": 5116,
   "metadata": {},
   "outputs": [
    {
     "data": {
      "text/plain": [
       "(0.2926043858307579, 0.28716984846198)"
      ]
     },
     "execution_count": 5116,
     "metadata": {},
     "output_type": "execute_result"
    }
   ],
   "source": [
    "r2 = reg.score(X_train,y_train)\n",
    "n = X_train.shape[0]\n",
    "p = X_train.shape[1]\n",
    "\n",
    "adjusted_r2 = 1-(1-r2)*(n-1)/(n-p-1)\n",
    "r2, adjusted_r2"
   ]
  },
  {
   "cell_type": "code",
   "execution_count": 5117,
   "metadata": {},
   "outputs": [
    {
     "data": {
      "text/plain": [
       "array([ 0.36956485,  0.53768014,  1.08474554, -0.37086478, -0.62177153,\n",
       "       -1.23143986])"
      ]
     },
     "execution_count": 5117,
     "metadata": {},
     "output_type": "execute_result"
    }
   ],
   "source": [
    "X_train[0]"
   ]
  },
  {
   "cell_type": "code",
   "execution_count": 5123,
   "metadata": {},
   "outputs": [
    {
     "name": "stdout",
     "output_type": "stream",
     "text": [
      "(198, 6)\n",
      "MAE =  0.3176250367985379\n",
      "MSE =  0.4249174305279448\n"
     ]
    }
   ],
   "source": [
    "yhat_test=reg.predict(X_test)\n",
    "#yhat_test=reg.predict(X)\n",
    "print(X_test.shape)\n",
    "MSE = mean_squared_error(y_test , yhat_test)\n",
    "MAE = mean_absolute_error(y_test , yhat_test)\n",
    "print('MAE = ',MAE)\n",
    "print('MSE = ',MSE)"
   ]
  },
  {
   "cell_type": "code",
   "execution_count": 5142,
   "metadata": {},
   "outputs": [
    {
     "data": {
      "image/png": "[encoded data removed]",
      "text/plain": [
       "<Figure size 432x288 with 1 Axes>"
      ]
     },
     "metadata": {},
     "output_type": "display_data"
    }
   ],
   "source": [
    "plt.scatter(y_test,yhat_test)\n",
    "#plt.plot(y_test,yhat_test)\n",
    "ab=ordo=range(0,7)\n",
    "fig=plt.plot(ab,ordo,lw=3,c='green')\n",
    "plt.xlabel('Targets (observed rainfall depths in mm)',size=14)\n",
    "plt.ylabel('Predictions (rainfall depths in mm)',size=14)\n",
    "plt.savefig('LR1687A.eps')"
   ]
  },
  {
   "cell_type": "code",
   "execution_count": 5127,
   "metadata": {},
   "outputs": [],
   "source": [
    "ypts=np.reshape(ypts,(-1,1))"
   ]
  },
  {
   "cell_type": "code",
   "execution_count": 5128,
   "metadata": {},
   "outputs": [
    {
     "data": {
      "text/plain": [
       "array([[1.        , 0.60008138],\n",
       "       [0.60008138, 1.        ]])"
      ]
     },
     "execution_count": 5128,
     "metadata": {},
     "output_type": "execute_result"
    }
   ],
   "source": [
    "np.corrcoef(y_test.T,yhat_test.T)"
   ]
  },
  {
   "cell_type": "code",
   "execution_count": 5129,
   "metadata": {},
   "outputs": [
    {
     "data": {
      "text/plain": [
       "array([[1.        , 0.55285225],\n",
       "       [0.55285225, 1.        ]])"
      ]
     },
     "execution_count": 5129,
     "metadata": {},
     "output_type": "execute_result"
    }
   ],
   "source": [
    "np.corrcoef(y.T,ypts.T)"
   ]
  },
  {
   "cell_type": "code",
   "execution_count": 5130,
   "metadata": {},
   "outputs": [
    {
     "name": "stdout",
     "output_type": "stream",
     "text": [
      "0.3785858585858586\n",
      "0.39709960645671655\n"
     ]
    }
   ],
   "source": [
    "print(np.mean(y_test))\n",
    "print(np.mean(yhat_test))"
   ]
  },
  {
   "cell_type": "code",
   "execution_count": 5133,
   "metadata": {},
   "outputs": [
    {
     "data": {
      "text/plain": [
       "1"
      ]
     },
     "execution_count": 5133,
     "metadata": {},
     "output_type": "execute_result"
    }
   ],
   "source": [
    "np.sum(yhat_test<0)"
   ]
  },
  {
   "cell_type": "code",
   "execution_count": 5134,
   "metadata": {},
   "outputs": [],
   "source": [
    "for i in range(yhat_test.shape[0]):\n",
    "    if (yhat_test[i]<0):\n",
    "        yhat_test[i]=0"
   ]
  },
  {
   "cell_type": "code",
   "execution_count": 5135,
   "metadata": {},
   "outputs": [
    {
     "data": {
      "text/plain": [
       "0"
      ]
     },
     "execution_count": 5135,
     "metadata": {},
     "output_type": "execute_result"
    }
   ],
   "source": [
    "np.sum(yhat_test<0)"
   ]
  },
  {
   "cell_type": "code",
   "execution_count": 5136,
   "metadata": {},
   "outputs": [
    {
     "data": {
      "text/plain": [
       "array([[1.        , 0.60013413],\n",
       "       [0.60013413, 1.        ]])"
      ]
     },
     "execution_count": 5136,
     "metadata": {},
     "output_type": "execute_result"
    }
   ],
   "source": [
    "np.corrcoef(y_test.T,yhat_test.T)"
   ]
  },
  {
   "cell_type": "code",
   "execution_count": 5137,
   "metadata": {},
   "outputs": [
    {
     "name": "stdout",
     "output_type": "stream",
     "text": [
      "0.3785858585858586\n",
      "0.3972045836785827\n"
     ]
    }
   ],
   "source": [
    "print(np.mean(y_test))\n",
    "print(np.mean(yhat_test))"
   ]
  },
  {
   "cell_type": "code",
   "execution_count": 5138,
   "metadata": {},
   "outputs": [
    {
     "name": "stdout",
     "output_type": "stream",
     "text": [
      "MAE =  0.3175200595766716\n",
      "MSE =  0.4249089498916449\n"
     ]
    }
   ],
   "source": [
    "MSE = mean_squared_error(y_test , yhat_test)\n",
    "MAE = mean_absolute_error(y_test , yhat_test)\n",
    "print('MAE = ',MAE)\n",
    "print('MSE = ',MSE)"
   ]
  },
  {
   "cell_type": "code",
   "execution_count": 5139,
   "metadata": {},
   "outputs": [
    {
     "data": {
      "text/plain": [
       "<matplotlib.axes._subplots.AxesSubplot at 0x8acfcf0390>"
      ]
     },
     "execution_count": 5139,
     "metadata": {},
     "output_type": "execute_result"
    },
    {
     "data": {
      "image/png": "[encoded data removed]",
      "text/plain": [
       "<Figure size 432x288 with 1 Axes>"
      ]
     },
     "metadata": {},
     "output_type": "display_data"
    }
   ],
   "source": [
    "sns.distplot(y_test-yhat_test)"
   ]
  },
  {
   "cell_type": "code",
   "execution_count": 5144,
   "metadata": {},
   "outputs": [
    {
     "data": {
      "image/png": "[encoded data removed]",
      "text/plain": [
       "<Figure size 432x288 with 1 Axes>"
      ]
     },
     "metadata": {},
     "output_type": "display_data"
    }
   ],
   "source": [
    "plt.scatter(y_test,yhat_test)\n",
    "#plt.plot(y_test,yhat_test)\n",
    "ab=ordo=range(0,11)\n",
    "fig=plt.plot(ab,ordo,lw=3,c='green')\n",
    "plt.xlabel('Targets (observed rainfall depths in mm)',size=14)\n",
    "plt.ylabel('Predictions (rainfall depths in mm)',size=14)\n",
    "plt.savefig('LR1687.eps')"
   ]
  }
 ],
 "metadata": {
  "kernelspec": {
   "display_name": "Python 3",
   "language": "python",
   "name": "python3"
  },
  "language_info": {
   "codemirror_mode": {
    "name": "ipython",
    "version": 3
   },
   "file_extension": ".py",
   "mimetype": "text/x-python",
   "name": "python",
   "nbconvert_exporter": "python",
   "pygments_lexer": "ipython3",
   "version": "3.7.3"
  }
 },
 "nbformat": 4,
 "nbformat_minor": 2
}
