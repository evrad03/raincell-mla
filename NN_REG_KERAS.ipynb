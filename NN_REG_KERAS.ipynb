{
 "cells": [
  {
   "cell_type": "code",
   "execution_count": 266,
   "metadata": {},
   "outputs": [],
   "source": [
    "import pandas as pd\n",
    "import numpy as np\n",
    "import matplotlib.pyplot as plt\n",
    "import seaborn as sns\n",
    "#sns.set()\n",
    "from sklearn.preprocessing import MinMaxScaler\n",
    "from keras.models import Sequential\n",
    "from keras.layers import Dense\n",
    "from keras.wrappers.scikit_learn import KerasRegressor\n",
    "from sklearn.model_selection import cross_val_score\n",
    "from sklearn.model_selection import KFold\n",
    "from sklearn.preprocessing import StandardScaler\n",
    "from sklearn.pipeline import Pipeline\n",
    "from sklearn.metrics import mean_squared_error \n",
    "from sklearn.metrics import mean_absolute_error\n",
    "# We have imported all dependencies"
   ]
  },
  {
   "cell_type": "code",
   "execution_count": 455,
   "metadata": {},
   "outputs": [
    {
     "name": "stdout",
     "output_type": "stream",
     "text": [
      "(9027, 14)\n"
     ]
    },
    {
     "data": {
      "text/html": [
       "<div>\n",
       "<style scoped>\n",
       "    .dataframe tbody tr th:only-of-type {\n",
       "        vertical-align: middle;\n",
       "    }\n",
       "\n",
       "    .dataframe tbody tr th {\n",
       "        vertical-align: top;\n",
       "    }\n",
       "\n",
       "    .dataframe thead th {\n",
       "        text-align: right;\n",
       "    }\n",
       "</style>\n",
       "<table border=\"1\" class=\"dataframe\">\n",
       "  <thead>\n",
       "    <tr style=\"text-align: right;\">\n",
       "      <th></th>\n",
       "      <th>Pmin</th>\n",
       "      <th>Pmax</th>\n",
       "      <th>Pavg</th>\n",
       "      <th>Pref</th>\n",
       "      <th>Pcmin</th>\n",
       "      <th>Pcavg</th>\n",
       "      <th>Pcmax</th>\n",
       "      <th>Amin</th>\n",
       "      <th>Aavg</th>\n",
       "      <th>Amax</th>\n",
       "      <th>Ramin</th>\n",
       "      <th>Ramax</th>\n",
       "      <th>Ravg</th>\n",
       "      <th>Rain</th>\n",
       "    </tr>\n",
       "  </thead>\n",
       "  <tbody>\n",
       "    <tr>\n",
       "      <th>0</th>\n",
       "      <td>-48</td>\n",
       "      <td>-47</td>\n",
       "      <td>-47.5</td>\n",
       "      <td>-47.50</td>\n",
       "      <td>-47.50</td>\n",
       "      <td>-47.50</td>\n",
       "      <td>-47.50</td>\n",
       "      <td>0.0</td>\n",
       "      <td>0.0</td>\n",
       "      <td>0.0</td>\n",
       "      <td>1.50</td>\n",
       "      <td>1.50</td>\n",
       "      <td>1.50</td>\n",
       "      <td>0.0</td>\n",
       "    </tr>\n",
       "    <tr>\n",
       "      <th>1</th>\n",
       "      <td>-47</td>\n",
       "      <td>-47</td>\n",
       "      <td>-47.0</td>\n",
       "      <td>-47.25</td>\n",
       "      <td>-47.25</td>\n",
       "      <td>-47.25</td>\n",
       "      <td>-47.25</td>\n",
       "      <td>0.0</td>\n",
       "      <td>0.0</td>\n",
       "      <td>0.0</td>\n",
       "      <td>1.25</td>\n",
       "      <td>1.25</td>\n",
       "      <td>1.25</td>\n",
       "      <td>0.0</td>\n",
       "    </tr>\n",
       "    <tr>\n",
       "      <th>2</th>\n",
       "      <td>-47</td>\n",
       "      <td>-47</td>\n",
       "      <td>-47.0</td>\n",
       "      <td>-47.00</td>\n",
       "      <td>-47.00</td>\n",
       "      <td>-47.00</td>\n",
       "      <td>-47.00</td>\n",
       "      <td>0.0</td>\n",
       "      <td>0.0</td>\n",
       "      <td>0.0</td>\n",
       "      <td>1.00</td>\n",
       "      <td>1.00</td>\n",
       "      <td>1.00</td>\n",
       "      <td>0.0</td>\n",
       "    </tr>\n",
       "    <tr>\n",
       "      <th>3</th>\n",
       "      <td>-47</td>\n",
       "      <td>-47</td>\n",
       "      <td>-47.0</td>\n",
       "      <td>-47.00</td>\n",
       "      <td>-47.00</td>\n",
       "      <td>-47.00</td>\n",
       "      <td>-47.00</td>\n",
       "      <td>0.0</td>\n",
       "      <td>0.0</td>\n",
       "      <td>0.0</td>\n",
       "      <td>1.00</td>\n",
       "      <td>1.00</td>\n",
       "      <td>1.00</td>\n",
       "      <td>0.0</td>\n",
       "    </tr>\n",
       "    <tr>\n",
       "      <th>4</th>\n",
       "      <td>-47</td>\n",
       "      <td>-47</td>\n",
       "      <td>-47.0</td>\n",
       "      <td>-47.00</td>\n",
       "      <td>-47.00</td>\n",
       "      <td>-47.00</td>\n",
       "      <td>-47.00</td>\n",
       "      <td>0.0</td>\n",
       "      <td>0.0</td>\n",
       "      <td>0.0</td>\n",
       "      <td>1.00</td>\n",
       "      <td>1.00</td>\n",
       "      <td>1.00</td>\n",
       "      <td>0.0</td>\n",
       "    </tr>\n",
       "  </tbody>\n",
       "</table>\n",
       "</div>"
      ],
      "text/plain": [
       "   Pmin  Pmax  Pavg   Pref  Pcmin  Pcavg  Pcmax  Amin  Aavg  Amax  Ramin  \\\n",
       "0   -48   -47 -47.5 -47.50 -47.50 -47.50 -47.50   0.0   0.0   0.0   1.50   \n",
       "1   -47   -47 -47.0 -47.25 -47.25 -47.25 -47.25   0.0   0.0   0.0   1.25   \n",
       "2   -47   -47 -47.0 -47.00 -47.00 -47.00 -47.00   0.0   0.0   0.0   1.00   \n",
       "3   -47   -47 -47.0 -47.00 -47.00 -47.00 -47.00   0.0   0.0   0.0   1.00   \n",
       "4   -47   -47 -47.0 -47.00 -47.00 -47.00 -47.00   0.0   0.0   0.0   1.00   \n",
       "\n",
       "   Ramax  Ravg  Rain  \n",
       "0   1.50  1.50   0.0  \n",
       "1   1.25  1.25   0.0  \n",
       "2   1.00  1.00   0.0  \n",
       "3   1.00  1.00   0.0  \n",
       "4   1.00  1.00   0.0  "
      ]
     },
     "execution_count": 455,
     "metadata": {},
     "output_type": "execute_result"
    }
   ],
   "source": [
    "data = pd.read_csv('Data_Holland/mwl526_RA.csv')\n",
    "data = pd.DataFrame(data)\n",
    "#data=pd.concat([data,data,data,data,data,data,data,data,data,data,data,data,data])\n",
    "print(data.shape)\n",
    "data.head()"
   ]
  },
  {
   "cell_type": "code",
   "execution_count": 456,
   "metadata": {},
   "outputs": [
    {
     "data": {
      "text/plain": [
       "(9027, 6)"
      ]
     },
     "execution_count": 456,
     "metadata": {},
     "output_type": "execute_result"
    }
   ],
   "source": [
    "xpts=np.array(data['Ramin'])\n",
    "ypts=np.array(data['Ravg'])\n",
    "zpts=np.array(data['Ramax'])\n",
    "\n",
    "apts=np.array(data['Pmin'])\n",
    "bpts=np.array(data['Pavg'])\n",
    "cpts=np.array(data['Pmax'])\n",
    "\n",
    "X=np.vstack((xpts,ypts,zpts,apts,bpts,cpts))\n",
    "X=X.T\n",
    "\n",
    "y=np.array(data['Rain'])\n",
    "y=np.vstack((y))\n",
    "X.shape"
   ]
  },
  {
   "cell_type": "code",
   "execution_count": 457,
   "metadata": {},
   "outputs": [],
   "source": [
    "from sklearn.model_selection import train_test_split\n",
    "X_train, X_test, y_train, y_test = train_test_split(X, y, test_size=0.20, shuffle=True)"
   ]
  },
  {
   "cell_type": "code",
   "execution_count": 458,
   "metadata": {},
   "outputs": [],
   "source": [
    "def larger_model():\n",
    "    # create model\n",
    "    model = Sequential()\n",
    "    model.add(Dense(20, input_dim=6, kernel_initializer='normal', activation='relu'))\n",
    "    model.add(Dense(10, kernel_initializer='normal', activation='relu'))\n",
    "    model.add(Dense(1, kernel_initializer='normal'))\n",
    "    # Compile model\n",
    "    model.compile(loss='mean_squared_error', optimizer='adam')\n",
    "    return model"
   ]
  },
  {
   "cell_type": "code",
   "execution_count": 459,
   "metadata": {},
   "outputs": [
    {
     "name": "stdout",
     "output_type": "stream",
     "text": [
      "Larger: -0.07 (0.12) MSE\n"
     ]
    }
   ],
   "source": [
    "# evaluate model with standardized dataset\n",
    "estimators = []\n",
    "estimators.append(('standardize', StandardScaler()))\n",
    "estimators.append(('mlp', KerasRegressor(build_fn=larger_model, epochs=50, batch_size=5, verbose=0)))\n",
    "pipeline = Pipeline(estimators)\n",
    "kfold = KFold(n_splits=10)\n",
    "results = cross_val_score(pipeline, X_train, y_train, cv=kfold)\n",
    "print(\"Larger: %.2f (%.2f) MSE\" % (results.mean(), results.std()))"
   ]
  },
  {
   "cell_type": "code",
   "execution_count": 460,
   "metadata": {},
   "outputs": [],
   "source": [
    "pipeline.fit(X_train, y_train)\n",
    "prediction = pipeline.predict(X_test)"
   ]
  },
  {
   "cell_type": "code",
   "execution_count": 446,
   "metadata": {},
   "outputs": [],
   "source": [
    "for i in range(prediction.shape[0]):\n",
    "    if (prediction[i]<0):\n",
    "        prediction[i]=0"
   ]
  },
  {
   "cell_type": "code",
   "execution_count": 447,
   "metadata": {},
   "outputs": [
    {
     "data": {
      "text/plain": [
       "array([[1.        , 0.62310197],\n",
       "       [0.62310197, 1.        ]])"
      ]
     },
     "execution_count": 447,
     "metadata": {},
     "output_type": "execute_result"
    }
   ],
   "source": [
    "np.corrcoef(y_test.T,prediction.T)"
   ]
  },
  {
   "cell_type": "code",
   "execution_count": 449,
   "metadata": {},
   "outputs": [
    {
     "data": {
      "text/plain": [
       "array([[1.        , 0.46320761],\n",
       "       [0.46320761, 1.        ]])"
      ]
     },
     "execution_count": 449,
     "metadata": {},
     "output_type": "execute_result"
    }
   ],
   "source": [
    "np.corrcoef(y.T,ypts.T)"
   ]
  },
  {
   "cell_type": "code",
   "execution_count": 450,
   "metadata": {},
   "outputs": [
    {
     "name": "stdout",
     "output_type": "stream",
     "text": [
      "MAE =  0.37890112934265535\n",
      "MSE =  1.355783091252203\n"
     ]
    }
   ],
   "source": [
    "MSE = mean_squared_error(y_test , prediction)\n",
    "MAE = mean_absolute_error(y_test , prediction)\n",
    "print('MAE = ',MAE)\n",
    "print('MSE = ',MSE)"
   ]
  },
  {
   "cell_type": "code",
   "execution_count": 451,
   "metadata": {},
   "outputs": [
    {
     "name": "stdout",
     "output_type": "stream",
     "text": [
      "0.47021390374331545\n",
      "0.39022836\n"
     ]
    }
   ],
   "source": [
    "print(np.mean(y_test))\n",
    "print(np.mean(prediction))"
   ]
  },
  {
   "cell_type": "code",
   "execution_count": 453,
   "metadata": {},
   "outputs": [
    {
     "data": {
      "text/plain": [
       "Text(0, 0.5, 'Predictions (rainfall depths in mm)')"
      ]
     },
     "execution_count": 453,
     "metadata": {},
     "output_type": "execute_result"
    },
    {
     "data": {
      "image/png": "[encoded data removed]",
      "text/plain": [
       "<Figure size 432x288 with 1 Axes>"
      ]
     },
     "metadata": {},
     "output_type": "display_data"
    }
   ],
   "source": [
    "plt.scatter(y_test,prediction)\n",
    "#plt.plot(y_test,yhat_test)\n",
    "ab=ordo=range(0,20)\n",
    "fig=plt.plot(ab,ordo,lw=3,c='green')\n",
    "plt.xlabel('Targets (observed rainfall depths in mm)',size=14)\n",
    "plt.ylabel('Predictions (rainfall depths in mm)',size=14)\n",
    "#plt.savefig('NNR526.eps')"
   ]
  },
  {
   "cell_type": "code",
   "execution_count": 397,
   "metadata": {},
   "outputs": [
    {
     "data": {
      "text/plain": [
       "Text(0.5, 0, 'Observed rainfall depths')"
      ]
     },
     "execution_count": 397,
     "metadata": {},
     "output_type": "execute_result"
    },
    {
     "data": {
      "image/png": "[encoded data removed]",
      "text/plain": [
       "<Figure size 432x288 with 1 Axes>"
      ]
     },
     "metadata": {},
     "output_type": "display_data"
    }
   ],
   "source": [
    "plt.plot(y_test,label=\"Original Data\")\n",
    "plt.plot(prediction,label=\"Predicted Data\")\n",
    "    \n",
    "plt.legend(loc='best')\n",
    "plt.ylabel('Predicted rainfall depths')\n",
    "plt.xlabel('Observed rainfall depths')\n",
    "#plt.title('Rain rate plot')\n",
    "#plt.savefig('plot526.eps')\n",
    "#plt.show()"
   ]
  },
  {
   "cell_type": "code",
   "execution_count": 265,
   "metadata": {},
   "outputs": [
    {
     "data": {
      "text/plain": [
       "0"
      ]
     },
     "execution_count": 265,
     "metadata": {},
     "output_type": "execute_result"
    }
   ],
   "source": [
    "np.sum(prediction<0)"
   ]
  },
  {
   "cell_type": "code",
   "execution_count": null,
   "metadata": {},
   "outputs": [],
   "source": []
  }
 ],
 "metadata": {
  "kernelspec": {
   "display_name": "Python 3",
   "language": "python",
   "name": "python3"
  },
  "language_info": {
   "codemirror_mode": {
    "name": "ipython",
    "version": 3
   },
   "file_extension": ".py",
   "mimetype": "text/x-python",
   "name": "python",
   "nbconvert_exporter": "python",
   "pygments_lexer": "ipython3",
   "version": "3.7.3"
  }
 },
 "nbformat": 4,
 "nbformat_minor": 2
}
