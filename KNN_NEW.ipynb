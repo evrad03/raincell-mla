{
 "cells": [
  {
   "cell_type": "code",
   "execution_count": 1,
   "metadata": {},
   "outputs": [],
   "source": [
    "import numpy as np\n",
    "import matplotlib.pyplot as plt\n",
    "import pandas as pd"
   ]
  },
  {
   "cell_type": "code",
   "execution_count": 2,
   "metadata": {},
   "outputs": [
    {
     "data": {
      "text/html": [
       "<div>\n",
       "<style scoped>\n",
       "    .dataframe tbody tr th:only-of-type {\n",
       "        vertical-align: middle;\n",
       "    }\n",
       "\n",
       "    .dataframe tbody tr th {\n",
       "        vertical-align: top;\n",
       "    }\n",
       "\n",
       "    .dataframe thead th {\n",
       "        text-align: right;\n",
       "    }\n",
       "</style>\n",
       "<table border=\"1\" class=\"dataframe\">\n",
       "  <thead>\n",
       "    <tr style=\"text-align: right;\">\n",
       "      <th></th>\n",
       "      <th>Pmin</th>\n",
       "      <th>Pmax</th>\n",
       "      <th>Pavg</th>\n",
       "      <th>Pref</th>\n",
       "      <th>Pcmin</th>\n",
       "      <th>Pcavg</th>\n",
       "      <th>Pcmax</th>\n",
       "      <th>Amin</th>\n",
       "      <th>Aavg</th>\n",
       "      <th>Amax</th>\n",
       "      <th>Ramin</th>\n",
       "      <th>Ramax</th>\n",
       "      <th>Ravg</th>\n",
       "      <th>Rain</th>\n",
       "    </tr>\n",
       "  </thead>\n",
       "  <tbody>\n",
       "    <tr>\n",
       "      <th>0</th>\n",
       "      <td>-49</td>\n",
       "      <td>-49</td>\n",
       "      <td>-49.0</td>\n",
       "      <td>-49.00</td>\n",
       "      <td>-49.00</td>\n",
       "      <td>-49.00</td>\n",
       "      <td>-49.00</td>\n",
       "      <td>0.0</td>\n",
       "      <td>0.0</td>\n",
       "      <td>0.0</td>\n",
       "      <td>3.00</td>\n",
       "      <td>3.00</td>\n",
       "      <td>3.00</td>\n",
       "      <td>0</td>\n",
       "    </tr>\n",
       "    <tr>\n",
       "      <th>1</th>\n",
       "      <td>-49</td>\n",
       "      <td>-48</td>\n",
       "      <td>-48.5</td>\n",
       "      <td>-48.75</td>\n",
       "      <td>-48.75</td>\n",
       "      <td>-48.75</td>\n",
       "      <td>-48.75</td>\n",
       "      <td>0.0</td>\n",
       "      <td>0.0</td>\n",
       "      <td>0.0</td>\n",
       "      <td>2.75</td>\n",
       "      <td>2.75</td>\n",
       "      <td>2.75</td>\n",
       "      <td>0</td>\n",
       "    </tr>\n",
       "    <tr>\n",
       "      <th>2</th>\n",
       "      <td>-49</td>\n",
       "      <td>-48</td>\n",
       "      <td>-48.5</td>\n",
       "      <td>-48.50</td>\n",
       "      <td>-48.50</td>\n",
       "      <td>-48.50</td>\n",
       "      <td>-48.50</td>\n",
       "      <td>0.0</td>\n",
       "      <td>0.0</td>\n",
       "      <td>0.0</td>\n",
       "      <td>2.50</td>\n",
       "      <td>2.50</td>\n",
       "      <td>2.50</td>\n",
       "      <td>0</td>\n",
       "    </tr>\n",
       "    <tr>\n",
       "      <th>3</th>\n",
       "      <td>-49</td>\n",
       "      <td>-48</td>\n",
       "      <td>-48.5</td>\n",
       "      <td>-48.50</td>\n",
       "      <td>-48.50</td>\n",
       "      <td>-48.50</td>\n",
       "      <td>-48.50</td>\n",
       "      <td>0.0</td>\n",
       "      <td>0.0</td>\n",
       "      <td>0.0</td>\n",
       "      <td>2.50</td>\n",
       "      <td>2.50</td>\n",
       "      <td>2.50</td>\n",
       "      <td>0</td>\n",
       "    </tr>\n",
       "    <tr>\n",
       "      <th>4</th>\n",
       "      <td>-49</td>\n",
       "      <td>-48</td>\n",
       "      <td>-48.5</td>\n",
       "      <td>-48.50</td>\n",
       "      <td>-48.50</td>\n",
       "      <td>-48.50</td>\n",
       "      <td>-48.50</td>\n",
       "      <td>0.0</td>\n",
       "      <td>0.0</td>\n",
       "      <td>0.0</td>\n",
       "      <td>2.50</td>\n",
       "      <td>2.50</td>\n",
       "      <td>2.50</td>\n",
       "      <td>0</td>\n",
       "    </tr>\n",
       "  </tbody>\n",
       "</table>\n",
       "</div>"
      ],
      "text/plain": [
       "   Pmin  Pmax  Pavg   Pref  Pcmin  Pcavg  Pcmax  Amin  Aavg  Amax  Ramin  \\\n",
       "0   -49   -49 -49.0 -49.00 -49.00 -49.00 -49.00   0.0   0.0   0.0   3.00   \n",
       "1   -49   -48 -48.5 -48.75 -48.75 -48.75 -48.75   0.0   0.0   0.0   2.75   \n",
       "2   -49   -48 -48.5 -48.50 -48.50 -48.50 -48.50   0.0   0.0   0.0   2.50   \n",
       "3   -49   -48 -48.5 -48.50 -48.50 -48.50 -48.50   0.0   0.0   0.0   2.50   \n",
       "4   -49   -48 -48.5 -48.50 -48.50 -48.50 -48.50   0.0   0.0   0.0   2.50   \n",
       "\n",
       "   Ramax  Ravg  Rain  \n",
       "0   3.00  3.00     0  \n",
       "1   2.75  2.75     0  \n",
       "2   2.50  2.50     0  \n",
       "3   2.50  2.50     0  \n",
       "4   2.50  2.50     0  "
      ]
     },
     "execution_count": 2,
     "metadata": {},
     "output_type": "execute_result"
    }
   ],
   "source": [
    "data = pd.read_csv('Data_Holland/mwl1558_C2.csv')\n",
    "data.head()"
   ]
  },
  {
   "cell_type": "code",
   "execution_count": 3,
   "metadata": {},
   "outputs": [
    {
     "data": {
      "text/plain": [
       "(9012, 1)"
      ]
     },
     "execution_count": 3,
     "metadata": {},
     "output_type": "execute_result"
    }
   ],
   "source": [
    "apts=np.array(data['Pmin'])\n",
    "bpts=np.array(data['Pavg'])\n",
    "cpts=np.array(data['Pmax'])\n",
    "xpts=np.array(data['Ramin'])\n",
    "ypts=np.array(data['Ravg'])\n",
    "zpts=np.array(data['Ramax'])\n",
    "#X=np.vstack((xpts,ypts,zpts,apts,bpts,cpts))\n",
    "\n",
    "#for raw average attenaution as explanatory\n",
    "X=np.array(data['Ravg'])\n",
    "X=X.reshape(1, -1)\n",
    "\n",
    "y=np.array(data['Rain'])\n",
    "X=X.T\n",
    "X.shape"
   ]
  },
  {
   "cell_type": "code",
   "execution_count": 4,
   "metadata": {},
   "outputs": [
    {
     "data": {
      "text/plain": [
       "(1734, 1)"
      ]
     },
     "execution_count": 4,
     "metadata": {},
     "output_type": "execute_result"
    }
   ],
   "source": [
    "num_one_targets = int(np.sum(y))\n",
    "zero_targets_counter = 0\n",
    "indices_to_remove = []\n",
    "for i in range(y.shape[0]):\n",
    "    if y[i] == 0:\n",
    "        zero_targets_counter += 1\n",
    "        if zero_targets_counter > num_one_targets:\n",
    "            indices_to_remove.append(i)\n",
    "            \n",
    "X = np.delete(X, indices_to_remove, axis = 0)\n",
    "y = np.delete(y, indices_to_remove, axis = 0)\n",
    "X.shape"
   ]
  },
  {
   "cell_type": "code",
   "execution_count": 5,
   "metadata": {},
   "outputs": [],
   "source": [
    "from sklearn.model_selection import train_test_split\n",
    "X_train, X_test, y_train, y_test = train_test_split(X, y, test_size=0.20, shuffle=True)"
   ]
  },
  {
   "cell_type": "code",
   "execution_count": 6,
   "metadata": {},
   "outputs": [],
   "source": [
    "from sklearn.preprocessing import StandardScaler\n",
    "scaler = StandardScaler()\n",
    "scaler.fit(X_train)\n",
    "\n",
    "X_train = scaler.transform(X_train)\n",
    "X_test = scaler.transform(X_test)"
   ]
  },
  {
   "cell_type": "code",
   "execution_count": 15,
   "metadata": {},
   "outputs": [
    {
     "data": {
      "text/plain": [
       "KNeighborsClassifier(algorithm='auto', leaf_size=30, metric='minkowski',\n",
       "           metric_params=None, n_jobs=None, n_neighbors=5, p=2,\n",
       "           weights='uniform')"
      ]
     },
     "execution_count": 15,
     "metadata": {},
     "output_type": "execute_result"
    }
   ],
   "source": [
    "from sklearn.neighbors import KNeighborsClassifier\n",
    "classifier = KNeighborsClassifier(n_neighbors=5)\n",
    "classifier.fit(X_train, y_train)"
   ]
  },
  {
   "cell_type": "code",
   "execution_count": 16,
   "metadata": {},
   "outputs": [],
   "source": [
    "y_pred = classifier.predict(X_test)"
   ]
  },
  {
   "cell_type": "code",
   "execution_count": 17,
   "metadata": {},
   "outputs": [
    {
     "name": "stdout",
     "output_type": "stream",
     "text": [
      "[[683  18]\n",
      " [ 86 600]]\n",
      "              precision    recall  f1-score   support\n",
      "\n",
      "           0       0.89      0.97      0.93       701\n",
      "           1       0.97      0.87      0.92       686\n",
      "\n",
      "   micro avg       0.93      0.93      0.93      1387\n",
      "   macro avg       0.93      0.92      0.92      1387\n",
      "weighted avg       0.93      0.93      0.92      1387\n",
      "\n"
     ]
    }
   ],
   "source": [
    "from sklearn.metrics import classification_report, confusion_matrix\n",
    "y_pred_train = classifier.predict(X_train)\n",
    "print(confusion_matrix(y_train, y_pred_train))\n",
    "print(classification_report(y_train, y_pred_train))"
   ]
  },
  {
   "cell_type": "code",
   "execution_count": 19,
   "metadata": {},
   "outputs": [
    {
     "name": "stdout",
     "output_type": "stream",
     "text": [
      "[[159   7]\n",
      " [ 21 160]]\n",
      "              precision    recall  f1-score   support\n",
      "\n",
      "           0       0.88      0.96      0.92       166\n",
      "           1       0.96      0.88      0.92       181\n",
      "\n",
      "   micro avg       0.92      0.92      0.92       347\n",
      "   macro avg       0.92      0.92      0.92       347\n",
      "weighted avg       0.92      0.92      0.92       347\n",
      "\n"
     ]
    }
   ],
   "source": [
    "print(confusion_matrix(y_test, y_pred))\n",
    "print(classification_report(y_test, y_pred))"
   ]
  },
  {
   "cell_type": "code",
   "execution_count": 11,
   "metadata": {},
   "outputs": [],
   "source": [
    "def confusion_matrix(data,actual_values,model):\n",
    "    pred_values=model.predict(data)\n",
    "    bins=np.array([0,0.5,1])\n",
    "    cm=np.histogram2d(actual_values,pred_values, bins=bins)[0]\n",
    "    accuracy=(cm[0,0]+cm[1,1])/cm.sum()\n",
    "    return cm,accuracy"
   ]
  },
  {
   "cell_type": "code",
   "execution_count": 12,
   "metadata": {},
   "outputs": [
    {
     "data": {
      "text/plain": [
       "(array([[159.,   7.],\n",
       "        [ 22., 159.]]), 0.9164265129682997)"
      ]
     },
     "execution_count": 12,
     "metadata": {},
     "output_type": "execute_result"
    }
   ],
   "source": [
    "cm=confusion_matrix(X_test,y_test,classifier)\n",
    "cm"
   ]
  },
  {
   "cell_type": "code",
   "execution_count": 13,
   "metadata": {},
   "outputs": [],
   "source": [
    "error = []\n",
    "# Calculating error for K values between 1 and 50\n",
    "for i in range(1, 50):\n",
    "    knn = KNeighborsClassifier(n_neighbors=i)\n",
    "    knn.fit(X_train, y_train)\n",
    "    pred_i = knn.predict(X_test)\n",
    "    error.append(np.mean(pred_i != y_test))"
   ]
  },
  {
   "cell_type": "code",
   "execution_count": 14,
   "metadata": {},
   "outputs": [
    {
     "data": {
      "image/png": "[encoded data removed]",
      "text/plain": [
       "<Figure size 864x432 with 1 Axes>"
      ]
     },
     "metadata": {
      "needs_background": "light"
     },
     "output_type": "display_data"
    }
   ],
   "source": [
    "plt.figure(figsize=(12, 6))\n",
    "plt.plot(range(1, 50), error, color='red', linestyle='dashed', marker='o',\n",
    "         markerfacecolor='blue', markersize=10)\n",
    "plt.title('Error Rate K Value')\n",
    "plt.xlabel('K Value')\n",
    "plt.ylabel('Mean Error')\n",
    "plt.savefig('error2.eps')"
   ]
  },
  {
   "cell_type": "code",
   "execution_count": 1898,
   "metadata": {},
   "outputs": [
    {
     "data": {
      "text/plain": [
       "1.4889327790333848"
      ]
     },
     "execution_count": 1898,
     "metadata": {},
     "output_type": "execute_result"
    }
   ],
   "source": [
    "from sklearn.metrics import log_loss  \n",
    "# where y_pred are probabilities and y_true are binary class labels\n",
    "log_loss(y_test, classifier.predict_proba(X_test), eps=1e-15)"
   ]
  },
  {
   "cell_type": "code",
   "execution_count": 1899,
   "metadata": {},
   "outputs": [
    {
     "name": "stdout",
     "output_type": "stream",
     "text": [
      "0.9379988028731044\n"
     ]
    }
   ],
   "source": [
    "from sklearn.metrics import roc_auc_score\n",
    "print(roc_auc_score(y_test, y_pred))"
   ]
  },
  {
   "cell_type": "code",
   "execution_count": 1900,
   "metadata": {},
   "outputs": [],
   "source": [
    "y_prob=knn.predict_proba(X_test)"
   ]
  },
  {
   "cell_type": "code",
   "execution_count": 1901,
   "metadata": {},
   "outputs": [
    {
     "data": {
      "text/plain": [
       "(347, 2)"
      ]
     },
     "execution_count": 1901,
     "metadata": {},
     "output_type": "execute_result"
    }
   ],
   "source": [
    "y_prob.shape"
   ]
  },
  {
   "cell_type": "code",
   "execution_count": null,
   "metadata": {},
   "outputs": [],
   "source": []
  },
  {
   "cell_type": "code",
   "execution_count": 1127,
   "metadata": {},
   "outputs": [],
   "source": [
    "X_train1687=X_train\n",
    "X_test1687=X_test\n",
    "y_train1687=y_train\n",
    "y_test1687=y_test"
   ]
  },
  {
   "cell_type": "code",
   "execution_count": null,
   "metadata": {},
   "outputs": [],
   "source": []
  }
 ],
 "metadata": {
  "kernelspec": {
   "display_name": "Python 3",
   "language": "python",
   "name": "python3"
  },
  "language_info": {
   "codemirror_mode": {
    "name": "ipython",
    "version": 3
   },
   "file_extension": ".py",
   "mimetype": "text/x-python",
   "name": "python",
   "nbconvert_exporter": "python",
   "pygments_lexer": "ipython3",
   "version": "3.7.3"
  }
 },
 "nbformat": 4,
 "nbformat_minor": 2
}
